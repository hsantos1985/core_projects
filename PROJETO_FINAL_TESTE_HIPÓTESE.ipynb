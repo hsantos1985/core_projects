{
  "nbformat": 4,
  "nbformat_minor": 0,
  "metadata": {
    "colab": {
      "provenance": [],
      "authorship_tag": "ABX9TyM9QNrg7bMRtkj9MCOlGRHt",
      "include_colab_link": true
    },
    "kernelspec": {
      "name": "ir",
      "display_name": "R"
    },
    "language_info": {
      "name": "R"
    }
  },
  "cells": [
    {
      "cell_type": "markdown",
      "metadata": {
        "id": "view-in-github",
        "colab_type": "text"
      },
      "source": [
        "<a href=\"https://colab.research.google.com/github/hsantos1985/core_projects/blob/main/PROJETO_FINAL_TESTE_HIP%C3%93TESE.ipynb\" target=\"_parent\"><img src=\"https://colab.research.google.com/assets/colab-badge.svg\" alt=\"Open In Colab\"/></a>"
      ]
    },
    {
      "cell_type": "markdown",
      "source": [
        "# <font color=white size=10>CURSO DE ESTATÍSTICA - PARTE 3</font>\n",
        "\n",
        "***\n",
        "\n",
        "## Trabalho sobre testes de hipóteses\n",
        "\n",
        "Utilizando os conhecimentos adquiridos em nosso treinamento realize o teste de hipóteses proposto abaixo.\n",
        "\n",
        "Siga o roteiro proposto e vá completando as células vazias. Procure pensar em mais testes interessantes que podem ser realizados com o nosso dataset.\n"
      ],
      "metadata": {
        "id": "A4de2m90lqfN"
      }
    },
    {
      "cell_type": "markdown",
      "source": [
        "## <font color='red'>Problema</font>"
      ],
      "metadata": {
        "id": "0_CWAC7Ml8MS"
      }
    },
    {
      "cell_type": "markdown",
      "source": [
        "Você é um pesquisador que estuda o mercado de trabalho brasileiro e resolve estudar as diferenças salariais dos trabalhadores dos estados do Rio de Janeiro e de São Paulo. Durante sua pesquisa você verifica que, aparentemente, os rendimentos dos trabalhadores no estado do Rio de Janeiro são mais baixos que os rendimentos dos trabalhadores no estado de São Paulo. Para confirmar esta conclusão realize um teste de hipótese de comparação de médias em cima de duas amostras de trabalhadores dos dois estados. Siga as seguintes etapas:\n",
        "\n",
        "- Utilize o *dataset* 'dados_proj.csv' para rodar o teste. Este *dataset* tem uma amostra de **tamanho 500** dos rendimentos dos trabalhadores dos dois estados (RJ e SP).\n",
        "- Considere o **nível de significância de 5%**.\n",
        "- Teste a hipótese de que a **renda média dos trabalhadores do Rio de Janeiro é menor que a renda média dos trabalhadores de São Paulo**."
      ],
      "metadata": {
        "id": "Itg9_XH-5hw9"
      }
    },
    {
      "cell_type": "code",
      "execution_count": null,
      "metadata": {
        "id": "oPjBEcKCkSwg"
      },
      "outputs": [],
      "source": [
        "#obtendo o dataset\n",
        "dados<-read.csv('/content/dados_proj.csv')"
      ]
    },
    {
      "cell_type": "code",
      "source": [
        "head(dados)"
      ],
      "metadata": {
        "colab": {
          "base_uri": "https://localhost:8080/",
          "height": 286
        },
        "id": "oJr4RqgNkdLh",
        "outputId": "3ab59e98-38ba-4ecc-cb3c-1ef00ed386e9"
      },
      "execution_count": null,
      "outputs": [
        {
          "output_type": "display_data",
          "data": {
            "text/html": [
              "<table class=\"dataframe\">\n",
              "<caption>A data.frame: 6 × 2</caption>\n",
              "<thead>\n",
              "\t<tr><th></th><th scope=col>Renda_RJ</th><th scope=col>Renda_SP</th></tr>\n",
              "\t<tr><th></th><th scope=col>&lt;int&gt;</th><th scope=col>&lt;int&gt;</th></tr>\n",
              "</thead>\n",
              "<tbody>\n",
              "\t<tr><th scope=row>1</th><td> 1300</td><td> 1800</td></tr>\n",
              "\t<tr><th scope=row>2</th><td>35000</td><td>  700</td></tr>\n",
              "\t<tr><th scope=row>3</th><td> 1300</td><td> 8000</td></tr>\n",
              "\t<tr><th scope=row>4</th><td> 2364</td><td> 1800</td></tr>\n",
              "\t<tr><th scope=row>5</th><td> 1500</td><td> 2364</td></tr>\n",
              "\t<tr><th scope=row>6</th><td> 2500</td><td>11000</td></tr>\n",
              "</tbody>\n",
              "</table>\n"
            ],
            "text/markdown": "\nA data.frame: 6 × 2\n\n| <!--/--> | Renda_RJ &lt;int&gt; | Renda_SP &lt;int&gt; |\n|---|---|---|\n| 1 |  1300 |  1800 |\n| 2 | 35000 |   700 |\n| 3 |  1300 |  8000 |\n| 4 |  2364 |  1800 |\n| 5 |  1500 |  2364 |\n| 6 |  2500 | 11000 |\n\n",
            "text/latex": "A data.frame: 6 × 2\n\\begin{tabular}{r|ll}\n  & Renda\\_RJ & Renda\\_SP\\\\\n  & <int> & <int>\\\\\n\\hline\n\t1 &  1300 &  1800\\\\\n\t2 & 35000 &   700\\\\\n\t3 &  1300 &  8000\\\\\n\t4 &  2364 &  1800\\\\\n\t5 &  1500 &  2364\\\\\n\t6 &  2500 & 11000\\\\\n\\end{tabular}\n",
            "text/plain": [
              "  Renda_RJ Renda_SP\n",
              "1  1300     1800   \n",
              "2 35000      700   \n",
              "3  1300     8000   \n",
              "4  2364     1800   \n",
              "5  1500     2364   \n",
              "6  2500    11000   "
            ]
          },
          "metadata": {}
        }
      ]
    },
    {
      "cell_type": "markdown",
      "source": [
        "## <font color='red'>Bibliotecas</font>"
      ],
      "metadata": {
        "id": "PX-vtJNPDZYE"
      }
    },
    {
      "cell_type": "code",
      "source": [
        "\n",
        "install.packages('dplyr')\n",
        "\n"
      ],
      "metadata": {
        "colab": {
          "base_uri": "https://localhost:8080/"
        },
        "id": "P_G9CpXrD7dz",
        "outputId": "b72ed8d2-e064-492f-d3f6-a4215cf1cac8"
      },
      "execution_count": null,
      "outputs": [
        {
          "output_type": "stream",
          "name": "stderr",
          "text": [
            "Installing package into ‘/usr/local/lib/R/site-library’\n",
            "(as ‘lib’ is unspecified)\n",
            "\n"
          ]
        }
      ]
    },
    {
      "cell_type": "code",
      "source": [
        "library(ggplot2)\n",
        "library(glue)\n",
        "library(dplyr)\n"
      ],
      "metadata": {
        "id": "XZD8HeidlQ9a"
      },
      "execution_count": null,
      "outputs": []
    },
    {
      "cell_type": "markdown",
      "source": [
        "## Dados do problema\n",
        "Obter média e desvio-padrão para as duas amostras"
      ],
      "metadata": {
        "id": "6J7exdlr6Wcc"
      }
    },
    {
      "cell_type": "code",
      "source": [
        "u_sp<-mean(dados$Renda_SP)\n",
        "u_rj<-mean(dados$Renda_RJ)\n",
        "sigma_sp<-sd(dados$Renda_SP)\n",
        "sigma_rj<-sd(dados$Renda_RJ)"
      ],
      "metadata": {
        "id": "mAhXmio5kdWC"
      },
      "execution_count": null,
      "outputs": []
    },
    {
      "cell_type": "code",
      "source": [
        "u_sp\n",
        "u_rj"
      ],
      "metadata": {
        "colab": {
          "base_uri": "https://localhost:8080/",
          "height": 52
        },
        "id": "XEeIko1IO7iR",
        "outputId": "7345c528-7c04-43f1-9616-f363c71f20dc"
      },
      "execution_count": null,
      "outputs": [
        {
          "output_type": "display_data",
          "data": {
            "text/html": [
              "2839.352"
            ],
            "text/markdown": "2839.352",
            "text/latex": "2839.352",
            "text/plain": [
              "[1] 2839.352"
            ]
          },
          "metadata": {}
        },
        {
          "output_type": "display_data",
          "data": {
            "text/html": [
              "2240.518"
            ],
            "text/markdown": "2240.518",
            "text/latex": "2240.518",
            "text/plain": [
              "[1] 2240.518"
            ]
          },
          "metadata": {}
        }
      ]
    },
    {
      "cell_type": "code",
      "source": [
        "sigma_sp\n",
        "sigma_rj"
      ],
      "metadata": {
        "colab": {
          "base_uri": "https://localhost:8080/",
          "height": 52
        },
        "id": "hnX3JmRFTkID",
        "outputId": "209b5759-47e4-41cf-9d11-e74b4daeab2a"
      },
      "execution_count": null,
      "outputs": [
        {
          "output_type": "display_data",
          "data": {
            "text/html": [
              "3699.38422543412"
            ],
            "text/markdown": "3699.38422543412",
            "text/latex": "3699.38422543412",
            "text/plain": [
              "[1] 3699.384"
            ]
          },
          "metadata": {}
        },
        {
          "output_type": "display_data",
          "data": {
            "text/html": [
              "4643.83616186796"
            ],
            "text/markdown": "4643.83616186796",
            "text/latex": "4643.83616186796",
            "text/plain": [
              "[1] 4643.836"
            ]
          },
          "metadata": {}
        }
      ]
    },
    {
      "cell_type": "markdown",
      "source": [
        "Outras Variáveis do problema"
      ],
      "metadata": {
        "id": "uAFA5yaI8n2h"
      }
    },
    {
      "cell_type": "code",
      "source": [
        "significancia <- 0.05\n",
        "confianca <-1-significancia\n",
        "n_sp <-500\n",
        "n_rj<-500\n",
        "D_0<-0"
      ],
      "metadata": {
        "id": "xb-0cfr78ur9"
      },
      "execution_count": null,
      "outputs": []
    },
    {
      "cell_type": "markdown",
      "source": [
        "### **Passo 1** - formulação das hipóteses $H_0$ e $H_1$\n",
        "\n",
        "#### <font color='white'>Lembre-se, a hipótese nula sempre contém a alegação de igualdade</font>"
      ],
      "metadata": {
        "id": "F-eWLGxKH8fK"
      }
    },
    {
      "cell_type": "markdown",
      "source": [
        "H0: A média salarial de RJ é maior ou igual a média de SP\n",
        "\n",
        "u_RJ>= u_SP\n",
        "\n",
        "H1: A média salarial de RJ é menor que a média de SP\n",
        "\n",
        "u_RJ< u_RJ"
      ],
      "metadata": {
        "id": "Ss_lUCeXJisU"
      }
    },
    {
      "cell_type": "markdown",
      "source": [
        "<img src='https://caelum-online-public.s3.amazonaws.com/1229-estatistica-parte3/01/img014.png' width=90%>"
      ],
      "metadata": {
        "id": "42wipgUaH8nH"
      }
    },
    {
      "cell_type": "markdown",
      "source": [
        "### **Passo 2** - escolha da distribuição amostral adequada\n",
        "\n",
        "### O tamanho da amostra é maior que 30?\n",
        "#### Resp.: SIM\n",
        "\n",
        "### O desvio padrão populacional é conhecido?\n",
        "#### Resp.: Não"
      ],
      "metadata": {
        "id": "eXLxn3oYKz1g"
      }
    },
    {
      "cell_type": "markdown",
      "source": [
        "<img src='https://caelum-online-public.s3.amazonaws.com/1229-estatistica-parte3/01/img003.png' width=70%>\n",
        "\n",
        "### <font color='red'>Observação importante</font>\n",
        "> Em testes que envolvam duas amostras com o emprego da tabela $t$ de Student, o número de graus de liberdade será sempre igual a $n_1 + n_2 - 2$"
      ],
      "metadata": {
        "id": "02qp2bBaLRSi"
      }
    },
    {
      "cell_type": "markdown",
      "source": [
        "### **Passo 3** - fixação da significância do teste ($\\alpha$)"
      ],
      "metadata": {
        "id": "JAoQ3SsdLoCB"
      }
    },
    {
      "cell_type": "code",
      "source": [
        "probabilidade<-significancia"
      ],
      "metadata": {
        "id": "Bi3bHWAcKt0q"
      },
      "execution_count": null,
      "outputs": []
    },
    {
      "cell_type": "code",
      "source": [
        "z_alpha<-qnorm(probabilidade)\n",
        "z_alpha"
      ],
      "metadata": {
        "colab": {
          "base_uri": "https://localhost:8080/",
          "height": 34
        },
        "id": "GwZhYeKRKt-R",
        "outputId": "2a4b56aa-dc9a-4b8f-f2ff-ad7ba3705719"
      },
      "execution_count": null,
      "outputs": [
        {
          "output_type": "display_data",
          "data": {
            "text/html": [
              "-1.64485362695147"
            ],
            "text/markdown": "-1.64485362695147",
            "text/latex": "-1.64485362695147",
            "text/plain": [
              "[1] -1.644854"
            ]
          },
          "metadata": {}
        }
      ]
    },
    {
      "cell_type": "markdown",
      "source": [
        "### **Passo 4** - cálculo da estatística-teste e verificação desse valor com as áreas de aceitação e rejeição do teste\n",
        "\n",
        "# $$z = \\frac{(\\bar{x_1} - \\bar{x_2})-D_0}{\\sqrt{\\frac{s_1^2}{n_1} + \\frac{s_2^2}{n_2}}}$$"
      ],
      "metadata": {
        "id": "7JD_qE7tMw2L"
      }
    },
    {
      "cell_type": "code",
      "source": [
        "numerador<-((u_rj-u_sp)-D_0)\n",
        "denominador<-sqrt(((sigma_sp**2)/n_sp)+((sigma_rj**2)/n_rj))\n",
        "z<-numerador/denominador\n",
        "z"
      ],
      "metadata": {
        "colab": {
          "base_uri": "https://localhost:8080/",
          "height": 34
        },
        "id": "4xSdw_JSKuCq",
        "outputId": "23ff3099-4581-4a5a-d27a-6c3f0b5702db"
      },
      "execution_count": null,
      "outputs": [
        {
          "output_type": "display_data",
          "data": {
            "text/html": [
              "-2.25531827360856"
            ],
            "text/markdown": "-2.25531827360856",
            "text/latex": "-2.25531827360856",
            "text/plain": [
              "[1] -2.255318"
            ]
          },
          "metadata": {}
        }
      ]
    },
    {
      "cell_type": "markdown",
      "source": [
        "### **Passo 5** - Aceitação ou rejeição da hipótese nula"
      ],
      "metadata": {
        "id": "mTOJaRg0OGeh"
      }
    },
    {
      "cell_type": "markdown",
      "source": [
        "### <font color='red'>Critério do valor crítico</font>"
      ],
      "metadata": {
        "id": "y_Vym3K8QixT"
      }
    },
    {
      "cell_type": "code",
      "source": [
        "z<=-z_alpha"
      ],
      "metadata": {
        "colab": {
          "base_uri": "https://localhost:8080/",
          "height": 34
        },
        "id": "DgDqXulkKuGA",
        "outputId": "bb640693-bd4e-436e-b21d-2630d7166f8c"
      },
      "execution_count": null,
      "outputs": [
        {
          "output_type": "display_data",
          "data": {
            "text/html": [
              "TRUE"
            ],
            "text/markdown": "TRUE",
            "text/latex": "TRUE",
            "text/plain": [
              "[1] TRUE"
            ]
          },
          "metadata": {}
        }
      ]
    },
    {
      "cell_type": "markdown",
      "source": [
        "### <font color='red'>Critério do valor $p$</font>"
      ],
      "metadata": {
        "id": "Ca5EIPBbQYe0"
      }
    },
    {
      "cell_type": "code",
      "source": [
        "p_valor<-pnorm(z, lower.tail = T)\n",
        "p_valor"
      ],
      "metadata": {
        "colab": {
          "base_uri": "https://localhost:8080/",
          "height": 34
        },
        "id": "RiF2tP53Yn_0",
        "outputId": "8cbedc0f-99cb-4ff4-f32e-20521aba484e"
      },
      "execution_count": null,
      "outputs": [
        {
          "output_type": "display_data",
          "data": {
            "text/html": [
              "0.0120566792156934"
            ],
            "text/markdown": "0.0120566792156934",
            "text/latex": "0.0120566792156934",
            "text/plain": [
              "[1] 0.01205668"
            ]
          },
          "metadata": {}
        }
      ]
    },
    {
      "cell_type": "code",
      "source": [
        "p_valor>=significancia"
      ],
      "metadata": {
        "colab": {
          "base_uri": "https://localhost:8080/",
          "height": 34
        },
        "id": "jMtOBw0XSvIq",
        "outputId": "42c7642c-004e-4b15-e331-7bce18a20295"
      },
      "execution_count": null,
      "outputs": [
        {
          "output_type": "display_data",
          "data": {
            "text/html": [
              "FALSE"
            ],
            "text/markdown": "FALSE",
            "text/latex": "FALSE",
            "text/plain": [
              "[1] FALSE"
            ]
          },
          "metadata": {}
        }
      ]
    },
    {
      "cell_type": "markdown",
      "source": [
        "Rejeita-se a H0, ou seja, a média salarial de RJ é menor que SP. Após a aplicação dos testes de Z crítico e alpha."
      ],
      "metadata": {
        "id": "vRFYirTmQXYD"
      }
    }
  ]
}