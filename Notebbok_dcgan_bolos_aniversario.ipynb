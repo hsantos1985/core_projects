{
  "nbformat": 4,
  "nbformat_minor": 0,
  "metadata": {
    "colab": {
      "provenance": [],
      "gpuType": "A100",
      "include_colab_link": true
    },
    "kernelspec": {
      "name": "python3",
      "display_name": "Python 3"
    },
    "language_info": {
      "name": "python"
    },
    "accelerator": "GPU"
  },
  "cells": [
    {
      "cell_type": "markdown",
      "metadata": {
        "id": "view-in-github",
        "colab_type": "text"
      },
      "source": [
        "<a href=\"https://colab.research.google.com/github/hsantos1985/core_projects/blob/main/Notebbok_dcgan_bolos_aniversario.ipynb\" target=\"_parent\"><img src=\"https://colab.research.google.com/assets/colab-badge.svg\" alt=\"Open In Colab\"/></a>"
      ]
    },
    {
      "cell_type": "markdown",
      "source": [
        "#OBJETIVO\n",
        "\n",
        "--O objetivo deste notebook é criar um modelo de redes generativas que consiga gerar imagens de bolos de aniversário.As imagens são em preto e branco e são desenhos\n",
        "\n",
        "--Foram utilizadas imagens do console cloud do google.Cujo link está abaixo.\n",
        "\n",
        "--Foi utilizada uma amostra de 90000 imagens.\n",
        "\n",
        "--No modelo foi criada uma rede para o discriminador das imagens e o gerador de imagens falsas\n",
        "\n",
        "--O modelo conseguiu criar imagens parecidas com bolos de aniversário, as quais são apresentadas no final deste notebook.\n",
        "\n",
        "--Foram utilizadas 250 épocas para treinamento e um batch de 250 imagens\n",
        "\n",
        "--O gerador conseguiu gerar nova imagens falsas, mas o discriminador estagnou na detecção de imagens falsas e verdadeiras. Isso é apresentado no gráfico de perda, no final deste notebook\n",
        "\n",
        "--Como próximos passos faz-se ncessário aumentar a amostra de imagens, além da quantidade de épocas para treinamento, e modificação da arquitetura principalmente do discriminador, para que este possa melhorar sua performance, de detecção de novas imagens\n"
      ],
      "metadata": {
        "id": "ZkTrWkc7aVlB"
      }
    },
    {
      "cell_type": "code",
      "source": [
        "from google.colab import drive\n",
        "drive.mount('/content/drive')"
      ],
      "metadata": {
        "id": "fBc1zEgxNp69",
        "outputId": "82cf570b-52a9-48b1-e3ec-b09fbb029631",
        "colab": {
          "base_uri": "https://localhost:8080/"
        }
      },
      "execution_count": null,
      "outputs": [
        {
          "output_type": "stream",
          "name": "stdout",
          "text": [
            "Drive already mounted at /content/drive; to attempt to forcibly remount, call drive.mount(\"/content/drive\", force_remount=True).\n"
          ]
        }
      ]
    },
    {
      "cell_type": "markdown",
      "source": [
        "#1-OBTENDO OS ARQUIVOS"
      ],
      "metadata": {
        "id": "tm1-qPoMqgvt"
      }
    },
    {
      "cell_type": "code",
      "source": [
        "# https://console.cloud.google.com/storage/browser/quickdraw_dataset/full/numpy_bitmap"
      ],
      "metadata": {
        "id": "YmWXTfH0lZvf"
      },
      "execution_count": null,
      "outputs": []
    },
    {
      "cell_type": "markdown",
      "source": [
        "##1-1.Escolha das imagens\n",
        "\n",
        "Foi escolhido o conjunto de imagens de bolos de aniversário"
      ],
      "metadata": {
        "id": "glJeP7CSqmWz"
      }
    },
    {
      "cell_type": "code",
      "execution_count": null,
      "metadata": {
        "id": "uAQ4r37KlS1L"
      },
      "outputs": [],
      "source": [
        "data_filepath = '/content/drive/MyDrive/datasets-dl/exercicio_iagen/full_numpy_bitmap_birthday cake.npy'"
      ]
    },
    {
      "cell_type": "code",
      "source": [
        "#carregando os dados\n",
        "import numpy as np\n",
        "\n",
        "dados = np.load(data_filepath, encoding='latin1', allow_pickle=True)"
      ],
      "metadata": {
        "id": "2VW_oiWUlXAI"
      },
      "execution_count": null,
      "outputs": []
    },
    {
      "cell_type": "code",
      "source": [
        "#verificando os formatos dos arquivos\n",
        "dados.shape"
      ],
      "metadata": {
        "colab": {
          "base_uri": "https://localhost:8080/"
        },
        "id": "R_3brL4algrq",
        "outputId": "e82de3b9-3543-4e86-83a3-f1124d165306"
      },
      "execution_count": null,
      "outputs": [
        {
          "output_type": "execute_result",
          "data": {
            "text/plain": [
              "(144982, 784)"
            ]
          },
          "metadata": {},
          "execution_count": 35
        }
      ]
    },
    {
      "cell_type": "code",
      "source": [
        "dados[1].shape"
      ],
      "metadata": {
        "colab": {
          "base_uri": "https://localhost:8080/"
        },
        "id": "7ovXIoEXbFVr",
        "outputId": "6f6f9bc4-7546-4d7f-daf1-1c199b41a1da"
      },
      "execution_count": null,
      "outputs": [
        {
          "output_type": "execute_result",
          "data": {
            "text/plain": [
              "(784,)"
            ]
          },
          "metadata": {},
          "execution_count": 36
        }
      ]
    },
    {
      "cell_type": "code",
      "source": [
        "dados[10].reshape(28, 28)"
      ],
      "metadata": {
        "colab": {
          "base_uri": "https://localhost:8080/",
          "height": 68
        },
        "id": "CN45drb0lhZf",
        "outputId": "61157c29-445e-4c4a-ab54-9eddfdd03dca"
      },
      "execution_count": null,
      "outputs": [
        {
          "output_type": "execute_result",
          "data": {
            "text/plain": [
              "array([[  0,   0,   0,   0,   0,   0,   0,   0,   0,   0,   0,   0,   0,\n",
              "          0,   0,   0,   0,   0,   0,   0,   0,   0,   0,   0,   0,   0,\n",
              "          0,   0],\n",
              "       [  0,   0,   0,   0,   0,   0,   0,   0,   0,   0,   0,   0,   0,\n",
              "          0,   0,   0,   0,   0,   0,   0,   0,   0,   0,   0,   0,   0,\n",
              "          0,   0],\n",
              "       [  0,   0,   0,   0,   0,   0,   0,   0,   0,   0,   0,   0,   0,\n",
              "          0,   0,   0,   0,   0,   0,   0,   0,   0,   0,   0,   0,   0,\n",
              "          0,   0],\n",
              "       [  0,   0,   0,   0,   0,   0,   0, 123, 226, 150,   4,   0,   0,\n",
              "          0,   0,   0,   0,   0,   0,   0,   0,   0,   0,   0,   0,   0,\n",
              "          0,   0],\n",
              "       [  0,   0,   0,   0,   0,   0,  67, 255, 213, 255,  44,   0,   0,\n",
              "          0,   0,   0,   0,   0,   0,   0,   0,   0,   0,   0,   0,   0,\n",
              "          0,   0],\n",
              "       [  0,   0,   0,   0,   0,   0, 129, 251,  90, 255,  46,   0,   0,\n",
              "          0,   0,   0,   0,   0,   0,   0,   0,   0,   0,   0,   0,   0,\n",
              "          0,   0],\n",
              "       [  0,   0,   0,   0,   0,   0,  66, 250, 233, 255,  46,   0,   0,\n",
              "          0,   0,   0,   0,   0,  21,  56,   0,   0,   0,   0,   0,   0,\n",
              "          0,   0],\n",
              "       [  0,   0,   0,   0,   0,   0,   0,  81, 251, 210,   9,   0,   0,\n",
              "          0,   0,   0,   0,   0, 132, 235,   0,   0,   0,   0,   0,   0,\n",
              "          0,   0],\n",
              "       [  0,   0,   0,   0,   0,   0,   0,   0, 150, 230,   0,   0,   0,\n",
              "          0,   0,   0,   0,   0, 136, 240,   0,   0,   0,   0,   0,   0,\n",
              "          0,   0],\n",
              "       [  0,   0,   0,   0,   0,   0,   0,   0, 146, 230,   0,   4,  33,\n",
              "         34,  34,  34,  20,   0, 136, 240,   0,   0,   0,   0,   0,   0,\n",
              "          0,   0],\n",
              "       [  0,   0,   0,   0,   0,   0,   0,   3, 168, 241, 181, 242, 255,\n",
              "        255, 255, 255, 255, 219, 193, 213, 168, 112,  26,   0,   0,   0,\n",
              "          0,   0],\n",
              "       [  0,   0,   0,   0,   0,  12, 156, 239, 255, 255, 207, 142,  89,\n",
              "         85,  85,  85, 108, 165, 204, 204, 212, 254, 255, 254, 224, 111,\n",
              "          2,   0],\n",
              "       [  0,  53, 191,  94, 125, 208, 250, 149,  81,  22,   0,   0,   0,\n",
              "          0,   0,   0,   0,   0,   0,   0,   0,  32, 107, 122, 185, 255,\n",
              "         68,   0],\n",
              "       [  0,  32, 221, 255, 255, 255, 149,  81,  61,   9,   0,   0,   0,\n",
              "          0,   0,   0,   0,   0,   0,   0,   0,   0,   0,   0,  53, 255,\n",
              "         69,   0],\n",
              "       [  0,   0,  16, 207, 245, 249, 255, 255, 255, 246, 194, 179, 170,\n",
              "        170, 157, 116,  69,  25,   0,   0,   0,   0,   0,   0,  59, 255,\n",
              "         63,   0],\n",
              "       [  0,   0,   0, 177, 206,   9,  34,  40,  67, 135, 184, 203, 204,\n",
              "        205, 227, 254, 255, 255, 235, 189, 144, 100,  85,  85, 132, 255,\n",
              "         57,   0],\n",
              "       [  0,   0,   4, 239, 147,   0,   0,   0,   0,   0,   0,   0,   0,\n",
              "          0,   0,  13,  57, 102, 148, 192, 238, 255, 255, 255, 255, 254,\n",
              "         70,   0],\n",
              "       [  0,   0,  60, 255,  76,   0,   0,   0,   0,   0,   0,   0,   0,\n",
              "          0,   0,   0,   0,   0,   0,   0,   0,  25,  34,  34,  65, 255,\n",
              "         79,   0],\n",
              "       [  0,   0, 131, 249,  12,   0,   0,   0,   0,   0,   0,   0,   0,\n",
              "          0,   0,   0,   0,   0,   0,   0,   0,   0,   0,   0,  37, 255,\n",
              "         84,   0],\n",
              "       [  0,   0, 202, 189,   0,   0,   0,   0,   0,   0,   0,   0,   0,\n",
              "          0,   0,   0,   0,   0,   0,   0,   0,   0,   0,   0,  32, 255,\n",
              "         89,   0],\n",
              "       [  0,  19, 253, 118,   0,   0,   0,   0,   0,   0,   0,   0,   0,\n",
              "          0,   0,   0,   0,   0,   0,   0,   0,   0,   0,   0,  27, 255,\n",
              "         95,   0],\n",
              "       [  0,  27, 255, 114,   0,   0,   0,   0,   0,   0,   0,   0,   0,\n",
              "          0,   0,   0,   0,   0,   0,   0,   0,   0,  22,  78, 195, 255,\n",
              "         86,   0],\n",
              "       [  0,   0, 185, 239, 118,  65,  20,   0,   0,   0,   0,   0,   0,\n",
              "          0,   0,   0,   0,  20,  71, 123, 174, 226, 255, 255, 223,  95,\n",
              "          2,   0],\n",
              "       [  0,   0,  27, 189, 253, 255, 255, 232, 187, 146, 136, 136, 136,\n",
              "        136, 137, 172, 223, 255, 255, 251, 209, 158, 107,  55,   4,   0,\n",
              "          0,   0],\n",
              "       [  0,   0,   0,   0,  17,  62, 105, 151, 194, 233, 238, 238, 238,\n",
              "        238, 238, 212, 160, 109,  57,  10,   0,   0,   0,   0,   0,   0,\n",
              "          0,   0],\n",
              "       [  0,   0,   0,   0,   0,   0,   0,   0,   0,   0,   0,   0,   0,\n",
              "          0,   0,   0,   0,   0,   0,   0,   0,   0,   0,   0,   0,   0,\n",
              "          0,   0],\n",
              "       [  0,   0,   0,   0,   0,   0,   0,   0,   0,   0,   0,   0,   0,\n",
              "          0,   0,   0,   0,   0,   0,   0,   0,   0,   0,   0,   0,   0,\n",
              "          0,   0],\n",
              "       [  0,   0,   0,   0,   0,   0,   0,   0,   0,   0,   0,   0,   0,\n",
              "          0,   0,   0,   0,   0,   0,   0,   0,   0,   0,   0,   0,   0,\n",
              "          0,   0]], dtype=uint8)"
            ],
            "text/html": [
              "<style>\n",
              "      .ndarray_repr .ndarray_raw_data {\n",
              "        display: none;\n",
              "      }\n",
              "      .ndarray_repr.show_array .ndarray_raw_data {\n",
              "        display: block;\n",
              "      }\n",
              "      .ndarray_repr.show_array .ndarray_image_preview {\n",
              "        display: none;\n",
              "      }\n",
              "      </style>\n",
              "      <div id=\"id-3d15bd2a-9a17-4e7d-8999-5c2d74ae1fcf\" class=\"ndarray_repr\"><pre>ndarray (28, 28) <button style=\"padding: 0 2px;\">show data</button></pre><img src=\"data:image/png;base64,iVBORw0KGgoAAAANSUhEUgAAABwAAAAcCAAAAABXZoBIAAABbklEQVR4nLWQTSjDcRzGP7///luEIjMktSjKa5KymLzvIlru5OLi7kBunCkvFzcnOXBy2GnUDspW3l1IrUwi71lt/3wdbMZ/3Hgu36fvp56eHvhXTYaX9N9YlxxLTdpX+zhtxkzSpqszdi11CV/QbKbe+EFmwk7fmGLZWLZHE1a3JuFnRQP0UgVPt6m4JLQ4sjbdOQBnkcvVnbUIgAIge24wlz3/rgGFrkoyqpSEZ+ffoMk/NLUXW/Q6vtRzjk34pBtwnovIotedyTc1SQ8Kcv0Vug2iwccoz6f7R1cAtATat3V4CEtLsa2ku6FIKceI4vbg8OiRemIA+v18Ki3HNbqwdSci8tYL0Cp95r2Ky8o6ZAAdPLEtM7wCC1Y08ARezBCIY0Ujv9H3AyOODY0MzUhHjv5VogC++/EOe+pv90yuh0UuhjUUlKy0a1wfnr4CqrzRiXESCgVDRmL4vNrquupKK0AkGAruv/5U4u/0DhABd6km0ghTAAAAAElFTkSuQmCC\" class=\"ndarray_image_preview\" /><pre class=\"ndarray_raw_data\">array([[  0,   0,   0,   0,   0,   0,   0,   0,   0,   0,   0,   0,   0,\n",
              "          0,   0,   0,   0,   0,   0,   0,   0,   0,   0,   0,   0,   0,\n",
              "          0,   0],\n",
              "       [  0,   0,   0,   0,   0,   0,   0,   0,   0,   0,   0,   0,   0,\n",
              "          0,   0,   0,   0,   0,   0,   0,   0,   0,   0,   0,   0,   0,\n",
              "          0,   0],\n",
              "       [  0,   0,   0,   0,   0,   0,   0,   0,   0,   0,   0,   0,   0,\n",
              "          0,   0,   0,   0,   0,   0,   0,   0,   0,   0,   0,   0,   0,\n",
              "          0,   0],\n",
              "       [  0,   0,   0,   0,   0,   0,   0, 123, 226, 150,   4,   0,   0,\n",
              "          0,   0,   0,   0,   0,   0,   0,   0,   0,   0,   0,   0,   0,\n",
              "          0,   0],\n",
              "       [  0,   0,   0,   0,   0,   0,  67, 255, 213, 255,  44,   0,   0,\n",
              "          0,   0,   0,   0,   0,   0,   0,   0,   0,   0,   0,   0,   0,\n",
              "          0,   0],\n",
              "       [  0,   0,   0,   0,   0,   0, 129, 251,  90, 255,  46,   0,   0,\n",
              "          0,   0,   0,   0,   0,   0,   0,   0,   0,   0,   0,   0,   0,\n",
              "          0,   0],\n",
              "       [  0,   0,   0,   0,   0,   0,  66, 250, 233, 255,  46,   0,   0,\n",
              "          0,   0,   0,   0,   0,  21,  56,   0,   0,   0,   0,   0,   0,\n",
              "          0,   0],\n",
              "       [  0,   0,   0,   0,   0,   0,   0,  81, 251, 210,   9,   0,   0,\n",
              "          0,   0,   0,   0,   0, 132, 235,   0,   0,   0,   0,   0,   0,\n",
              "          0,   0],\n",
              "       [  0,   0,   0,   0,   0,   0,   0,   0, 150, 230,   0,   0,   0,\n",
              "          0,   0,   0,   0,   0, 136, 240,   0,   0,   0,   0,   0,   0,\n",
              "          0,   0],\n",
              "       [  0,   0,   0,   0,   0,   0,   0,   0, 146, 230,   0,   4,  33,\n",
              "         34,  34,  34,  20,   0, 136, 240,   0,   0,   0,   0,   0,   0,\n",
              "          0,   0],\n",
              "       [  0,   0,   0,   0,   0,   0,   0,   3, 168, 241, 181, 242, 255,\n",
              "        255, 255, 255, 255, 219, 193, 213, 168, 112,  26,   0,   0,   0,\n",
              "          0,   0],\n",
              "       [  0,   0,   0,   0,   0,  12, 156, 239, 255, 255, 207, 142,  89,\n",
              "         85,  85,  85, 108, 165, 204, 204, 212, 254, 255, 254, 224, 111,\n",
              "          2,   0],\n",
              "       [  0,  53, 191,  94, 125, 208, 250, 149,  81,  22,   0,   0,   0,\n",
              "          0,   0,   0,   0,   0,   0,   0,   0,  32, 107, 122, 185, 255,\n",
              "         68,   0],\n",
              "       [  0,  32, 221, 255, 255, 255, 149,  81,  61,   9,   0,   0,   0,\n",
              "          0,   0,   0,   0,   0,   0,   0,   0,   0,   0,   0,  53, 255,\n",
              "         69,   0],\n",
              "       [  0,   0,  16, 207, 245, 249, 255, 255, 255, 246, 194, 179, 170,\n",
              "        170, 157, 116,  69,  25,   0,   0,   0,   0,   0,   0,  59, 255,\n",
              "         63,   0],\n",
              "       [  0,   0,   0, 177, 206,   9,  34,  40,  67, 135, 184, 203, 204,\n",
              "        205, 227, 254, 255, 255, 235, 189, 144, 100,  85,  85, 132, 255,\n",
              "         57,   0],\n",
              "       [  0,   0,   4, 239, 147,   0,   0,   0,   0,   0,   0,   0,   0,\n",
              "          0,   0,  13,  57, 102, 148, 192, 238, 255, 255, 255, 255, 254,\n",
              "         70,   0],\n",
              "       [  0,   0,  60, 255,  76,   0,   0,   0,   0,   0,   0,   0,   0,\n",
              "          0,   0,   0,   0,   0,   0,   0,   0,  25,  34,  34,  65, 255,\n",
              "         79,   0],\n",
              "       [  0,   0, 131, 249,  12,   0,   0,   0,   0,   0,   0,   0,   0,\n",
              "          0,   0,   0,   0,   0,   0,   0,   0,   0,   0,   0,  37, 255,\n",
              "         84,   0],\n",
              "       [  0,   0, 202, 189,   0,   0,   0,   0,   0,   0,   0,   0,   0,\n",
              "          0,   0,   0,   0,   0,   0,   0,   0,   0,   0,   0,  32, 255,\n",
              "         89,   0],\n",
              "       [  0,  19, 253, 118,   0,   0,   0,   0,   0,   0,   0,   0,   0,\n",
              "          0,   0,   0,   0,   0,   0,   0,   0,   0,   0,   0,  27, 255,\n",
              "         95,   0],\n",
              "       [  0,  27, 255, 114,   0,   0,   0,   0,   0,   0,   0,   0,   0,\n",
              "          0,   0,   0,   0,   0,   0,   0,   0,   0,  22,  78, 195, 255,\n",
              "         86,   0],\n",
              "       [  0,   0, 185, 239, 118,  65,  20,   0,   0,   0,   0,   0,   0,\n",
              "          0,   0,   0,   0,  20,  71, 123, 174, 226, 255, 255, 223,  95,\n",
              "          2,   0],\n",
              "       [  0,   0,  27, 189, 253, 255, 255, 232, 187, 146, 136, 136, 136,\n",
              "        136, 137, 172, 223, 255, 255, 251, 209, 158, 107,  55,   4,   0,\n",
              "          0,   0],\n",
              "       [  0,   0,   0,   0,  17,  62, 105, 151, 194, 233, 238, 238, 238,\n",
              "        238, 238, 212, 160, 109,  57,  10,   0,   0,   0,   0,   0,   0,\n",
              "          0,   0],\n",
              "       [  0,   0,   0,   0,   0,   0,   0,   0,   0,   0,   0,   0,   0,\n",
              "          0,   0,   0,   0,   0,   0,   0,   0,   0,   0,   0,   0,   0,\n",
              "          0,   0],\n",
              "       [  0,   0,   0,   0,   0,   0,   0,   0,   0,   0,   0,   0,   0,\n",
              "          0,   0,   0,   0,   0,   0,   0,   0,   0,   0,   0,   0,   0,\n",
              "          0,   0],\n",
              "       [  0,   0,   0,   0,   0,   0,   0,   0,   0,   0,   0,   0,   0,\n",
              "          0,   0,   0,   0,   0,   0,   0,   0,   0,   0,   0,   0,   0,\n",
              "          0,   0]], dtype=uint8)</pre></div><script>\n",
              "      (() => {\n",
              "      const titles = ['show data', 'hide data'];\n",
              "      let index = 0\n",
              "      document.querySelector('#id-3d15bd2a-9a17-4e7d-8999-5c2d74ae1fcf button').onclick = (e) => {\n",
              "        document.querySelector('#id-3d15bd2a-9a17-4e7d-8999-5c2d74ae1fcf').classList.toggle('show_array');\n",
              "        index = (++index) % 2;\n",
              "        document.querySelector('#id-3d15bd2a-9a17-4e7d-8999-5c2d74ae1fcf button').textContent = titles[index];\n",
              "        e.preventDefault();\n",
              "        e.stopPropagation();\n",
              "      }\n",
              "      })();\n",
              "    </script>"
            ]
          },
          "metadata": {},
          "execution_count": 37
        }
      ]
    },
    {
      "cell_type": "code",
      "source": [
        "dados[1000].reshape(28, 28)"
      ],
      "metadata": {
        "colab": {
          "base_uri": "https://localhost:8080/",
          "height": 68
        },
        "id": "DztcFtz6nZ9N",
        "outputId": "a5a35ded-f099-41c1-ead9-fc04011b84ca"
      },
      "execution_count": null,
      "outputs": [
        {
          "output_type": "execute_result",
          "data": {
            "text/plain": [
              "array([[  0,   0,   0,   0,   0,   0,   0,   0,   0,   0,   0,   0,   0,\n",
              "          0,   0,   0,   0,   0,   0,   0,   0,   0,   0,   0,   0,   0,\n",
              "          0,   0],\n",
              "       [  0,   0,   0,   0,   0,   0,   0,   0,   0,   0,   0,   0,   0,\n",
              "          0,   0,   0,   0,   0,   0,   0,   0,   0,   0,   0,   0,   0,\n",
              "          0,   0],\n",
              "       [  0,   0,   0,   0,   0,   0,   0,   0,   0,   0,   0,   0,   0,\n",
              "          0,   0,   0,   0,   0,   0,   0,   0,   0,   0,   0,   0,   0,\n",
              "          0,   0],\n",
              "       [  0,   0,   0,   0,   0,   0,   0,   0,   0,   0,   0,   0,   0,\n",
              "          0,   0,   0,   0,   0,   0,   0,   0,   0,   0,   0,   0,   0,\n",
              "          0,   0],\n",
              "       [  0,   0,   0,   0,   0,   0,   0,   0, 105, 182,  22,   0,   0,\n",
              "          0,   0,   0,   0,   0,   0,   0,   0,   0,   0,   0,   0,   0,\n",
              "          0,   0],\n",
              "       [  0,   0,   0,   0,   0,   0,   0,   0, 227, 255, 200,   9,   0,\n",
              "          0,   0,   0,   0,   2,   2,   0,   0,   0,   0,   0,   0,   0,\n",
              "          0,   0],\n",
              "       [  0,   0,   0,   0,   0,   0,  55,  10, 167, 255, 254, 173,   2,\n",
              "          0,   0,  30,  63, 158, 185,   0,   0,   0,   0,   0,   0,   0,\n",
              "          0,   0],\n",
              "       [  0,   0,   6,  95,  34,   7, 253, 180,  72, 255, 177, 255, 116,\n",
              "          0,   0, 133, 239,  99, 255,  67,   0,   0,   0,   0,   0,   0,\n",
              "          0,   0],\n",
              "       [  0,   0,  77, 255, 185,   0, 240, 255,  31, 228, 209, 240, 221,\n",
              "          0,   0,  91, 255,  40, 240, 143,   0,   0,   0,   0,   0,   0,\n",
              "          0,   0],\n",
              "       [  0,   0, 108, 255, 253,  12, 120, 255, 122,  69, 188, 248,  83,\n",
              "          0,   0,  41, 255,  94, 191, 212,  34,  34,  12,   0,   0,   0,\n",
              "          0,   0],\n",
              "       [  0,   0,  44, 195, 255,  95,  29, 254, 175,   0,  44, 254, 134,\n",
              "         98,  71, 152, 253, 254, 255, 255, 255, 255, 237,  45,   0,   0,\n",
              "          0,   0],\n",
              "       [  0,   0,   0,  14, 248, 137,   0, 153, 241,  10,  11, 201, 255,\n",
              "        254, 255, 238, 234, 211, 131, 254, 172, 103, 222, 224,   9,   0,\n",
              "          0,   0],\n",
              "       [  0,   0,   0,   0, 171, 230,  15,  86, 255, 235, 247, 255, 251,\n",
              "        177,  69,   5,  28,  27,   0,  86,  30,   0,  55, 254, 123,   0,\n",
              "          0,   0],\n",
              "       [  0,   0,   0,  30, 126, 252, 243, 255, 255, 238, 136,  56,   1,\n",
              "          0,   0,   0,   0,   0,   0,   0,   0,   0,   0, 166, 242,  23,\n",
              "          0,   0],\n",
              "       [  0,   9, 208, 255, 255, 235, 181,  94,  30,   0,   0,   0,   0,\n",
              "          0,   0,   0,   0,   0,   0,   0,   0,   0,   0,  31, 247, 153,\n",
              "          0,   0],\n",
              "       [  0,  22, 199, 105,  39,   0,   0,   0,   0,   0,   0,   0,   0,\n",
              "          0,   0,   0,   0,   0,   0,   0,   0,   0,   0,   0, 136, 252,\n",
              "         31,   0],\n",
              "       [  0, 104, 252,  25,   0,   0,   0,   0,   0,   0,   0,   0,   0,\n",
              "          0,   0,   0,   0,   0,   0,   0,   0,   0,   0,   0,  26, 255,\n",
              "        108,   0],\n",
              "       [  0,  33, 254, 110,   0,   0,   0,   0,   0,   0,   0,   0,   0,\n",
              "          0,   0,   0,   0,   0,   0,   0,   0,   0,   0,   0,  20, 255,\n",
              "        103,   0],\n",
              "       [  0,   0, 202, 196,   0,   0,   0,   0,   0,   0,   0,   0,   0,\n",
              "          0,   0,   0,   0,   0,   0,   0,   0,   0,   0,  22, 112, 255,\n",
              "         80,   0],\n",
              "       [  0,   0, 115, 254,  29,   0,   0,   0,   0,   0,   0,   0,   0,\n",
              "          0,   0,   0,   0,   0,   0,   3,  57, 130, 203, 253, 255, 204,\n",
              "         13,   0],\n",
              "       [  0,   0,  29, 254, 116,   0,   0,   0,   0,   0,   0,   0,   0,\n",
              "          0,   0,   0,  23,  95, 167, 237, 255, 248, 187, 115,  42,   0,\n",
              "          0,   0],\n",
              "       [  0,   0,   0, 186, 224,   5,   0,   0,   0,   0,   0,   0,   8,\n",
              "         60, 132, 204, 254, 255, 223, 150,  78,  11,   0,   0,   0,   0,\n",
              "          0,   0],\n",
              "       [  0,   0,   0,  67, 255, 200, 170, 170, 170, 170, 184, 223, 253,\n",
              "        255, 248, 186, 113,  40,   0,   0,   0,   0,   0,   0,   0,   0,\n",
              "          0,   0],\n",
              "       [  0,   0,   0,   0,  92, 200, 204, 204, 204, 204, 196, 158, 120,\n",
              "         73,  11,   0,   0,   0,   0,   0,   0,   0,   0,   0,   0,   0,\n",
              "          0,   0],\n",
              "       [  0,   0,   0,   0,   0,   0,   0,   0,   0,   0,   0,   0,   0,\n",
              "          0,   0,   0,   0,   0,   0,   0,   0,   0,   0,   0,   0,   0,\n",
              "          0,   0],\n",
              "       [  0,   0,   0,   0,   0,   0,   0,   0,   0,   0,   0,   0,   0,\n",
              "          0,   0,   0,   0,   0,   0,   0,   0,   0,   0,   0,   0,   0,\n",
              "          0,   0],\n",
              "       [  0,   0,   0,   0,   0,   0,   0,   0,   0,   0,   0,   0,   0,\n",
              "          0,   0,   0,   0,   0,   0,   0,   0,   0,   0,   0,   0,   0,\n",
              "          0,   0],\n",
              "       [  0,   0,   0,   0,   0,   0,   0,   0,   0,   0,   0,   0,   0,\n",
              "          0,   0,   0,   0,   0,   0,   0,   0,   0,   0,   0,   0,   0,\n",
              "          0,   0]], dtype=uint8)"
            ],
            "text/html": [
              "<style>\n",
              "      .ndarray_repr .ndarray_raw_data {\n",
              "        display: none;\n",
              "      }\n",
              "      .ndarray_repr.show_array .ndarray_raw_data {\n",
              "        display: block;\n",
              "      }\n",
              "      .ndarray_repr.show_array .ndarray_image_preview {\n",
              "        display: none;\n",
              "      }\n",
              "      </style>\n",
              "      <div id=\"id-618cd448-dea8-47f1-9968-35152b3738c0\" class=\"ndarray_repr\"><pre>ndarray (28, 28) <button style=\"padding: 0 2px;\">show data</button></pre><img src=\"data:image/png;base64,iVBORw0KGgoAAAANSUhEUgAAABwAAAAcCAAAAABXZoBIAAABZ0lEQVR4nMXQO0iCYRQG4NevLG/ZpnTxF1yMqLULBA0ltdSWi5JUQwluSkvQ0A2b2iKXxhoqQqjEarKhJKmkJYRSKoISzYrIUr/TYJbF31pnOocHDue8wD+WfUvzO17RgRwAwNhPalYsE19jgNC+6C+GMpuhPLfRTV5yAdP3Q9RRhD3kR4r01+HUOWChutRcQRigR6fKDctAXDYKHKHp2GQwqAresEc2HV9HA58Z7FrIcSKiRGNB1elZeB4UyiBxSt6dTvLV4YuYvKArN5Vmir9QxmuS1tbALKCZj32YMJ59Ikq6WyRfVy49agFAfkIU3+wXvj+uf/EAgGbfbhRJzJ3VAxjJVonFWU0OMPhZnxi+IQOGaMgsYhorbgHAyXXfoaR14jBHoQoA0HFXkWhtywlK7zjrP+btmDTfyNqmQpyi873K/CwB0LEbvASgNgrsNeDznX1ukQCA1VEKIB2JhAPPYpf/Zb0DctSEIfjpEY8AAAAASUVORK5CYII=\" class=\"ndarray_image_preview\" /><pre class=\"ndarray_raw_data\">array([[  0,   0,   0,   0,   0,   0,   0,   0,   0,   0,   0,   0,   0,\n",
              "          0,   0,   0,   0,   0,   0,   0,   0,   0,   0,   0,   0,   0,\n",
              "          0,   0],\n",
              "       [  0,   0,   0,   0,   0,   0,   0,   0,   0,   0,   0,   0,   0,\n",
              "          0,   0,   0,   0,   0,   0,   0,   0,   0,   0,   0,   0,   0,\n",
              "          0,   0],\n",
              "       [  0,   0,   0,   0,   0,   0,   0,   0,   0,   0,   0,   0,   0,\n",
              "          0,   0,   0,   0,   0,   0,   0,   0,   0,   0,   0,   0,   0,\n",
              "          0,   0],\n",
              "       [  0,   0,   0,   0,   0,   0,   0,   0,   0,   0,   0,   0,   0,\n",
              "          0,   0,   0,   0,   0,   0,   0,   0,   0,   0,   0,   0,   0,\n",
              "          0,   0],\n",
              "       [  0,   0,   0,   0,   0,   0,   0,   0, 105, 182,  22,   0,   0,\n",
              "          0,   0,   0,   0,   0,   0,   0,   0,   0,   0,   0,   0,   0,\n",
              "          0,   0],\n",
              "       [  0,   0,   0,   0,   0,   0,   0,   0, 227, 255, 200,   9,   0,\n",
              "          0,   0,   0,   0,   2,   2,   0,   0,   0,   0,   0,   0,   0,\n",
              "          0,   0],\n",
              "       [  0,   0,   0,   0,   0,   0,  55,  10, 167, 255, 254, 173,   2,\n",
              "          0,   0,  30,  63, 158, 185,   0,   0,   0,   0,   0,   0,   0,\n",
              "          0,   0],\n",
              "       [  0,   0,   6,  95,  34,   7, 253, 180,  72, 255, 177, 255, 116,\n",
              "          0,   0, 133, 239,  99, 255,  67,   0,   0,   0,   0,   0,   0,\n",
              "          0,   0],\n",
              "       [  0,   0,  77, 255, 185,   0, 240, 255,  31, 228, 209, 240, 221,\n",
              "          0,   0,  91, 255,  40, 240, 143,   0,   0,   0,   0,   0,   0,\n",
              "          0,   0],\n",
              "       [  0,   0, 108, 255, 253,  12, 120, 255, 122,  69, 188, 248,  83,\n",
              "          0,   0,  41, 255,  94, 191, 212,  34,  34,  12,   0,   0,   0,\n",
              "          0,   0],\n",
              "       [  0,   0,  44, 195, 255,  95,  29, 254, 175,   0,  44, 254, 134,\n",
              "         98,  71, 152, 253, 254, 255, 255, 255, 255, 237,  45,   0,   0,\n",
              "          0,   0],\n",
              "       [  0,   0,   0,  14, 248, 137,   0, 153, 241,  10,  11, 201, 255,\n",
              "        254, 255, 238, 234, 211, 131, 254, 172, 103, 222, 224,   9,   0,\n",
              "          0,   0],\n",
              "       [  0,   0,   0,   0, 171, 230,  15,  86, 255, 235, 247, 255, 251,\n",
              "        177,  69,   5,  28,  27,   0,  86,  30,   0,  55, 254, 123,   0,\n",
              "          0,   0],\n",
              "       [  0,   0,   0,  30, 126, 252, 243, 255, 255, 238, 136,  56,   1,\n",
              "          0,   0,   0,   0,   0,   0,   0,   0,   0,   0, 166, 242,  23,\n",
              "          0,   0],\n",
              "       [  0,   9, 208, 255, 255, 235, 181,  94,  30,   0,   0,   0,   0,\n",
              "          0,   0,   0,   0,   0,   0,   0,   0,   0,   0,  31, 247, 153,\n",
              "          0,   0],\n",
              "       [  0,  22, 199, 105,  39,   0,   0,   0,   0,   0,   0,   0,   0,\n",
              "          0,   0,   0,   0,   0,   0,   0,   0,   0,   0,   0, 136, 252,\n",
              "         31,   0],\n",
              "       [  0, 104, 252,  25,   0,   0,   0,   0,   0,   0,   0,   0,   0,\n",
              "          0,   0,   0,   0,   0,   0,   0,   0,   0,   0,   0,  26, 255,\n",
              "        108,   0],\n",
              "       [  0,  33, 254, 110,   0,   0,   0,   0,   0,   0,   0,   0,   0,\n",
              "          0,   0,   0,   0,   0,   0,   0,   0,   0,   0,   0,  20, 255,\n",
              "        103,   0],\n",
              "       [  0,   0, 202, 196,   0,   0,   0,   0,   0,   0,   0,   0,   0,\n",
              "          0,   0,   0,   0,   0,   0,   0,   0,   0,   0,  22, 112, 255,\n",
              "         80,   0],\n",
              "       [  0,   0, 115, 254,  29,   0,   0,   0,   0,   0,   0,   0,   0,\n",
              "          0,   0,   0,   0,   0,   0,   3,  57, 130, 203, 253, 255, 204,\n",
              "         13,   0],\n",
              "       [  0,   0,  29, 254, 116,   0,   0,   0,   0,   0,   0,   0,   0,\n",
              "          0,   0,   0,  23,  95, 167, 237, 255, 248, 187, 115,  42,   0,\n",
              "          0,   0],\n",
              "       [  0,   0,   0, 186, 224,   5,   0,   0,   0,   0,   0,   0,   8,\n",
              "         60, 132, 204, 254, 255, 223, 150,  78,  11,   0,   0,   0,   0,\n",
              "          0,   0],\n",
              "       [  0,   0,   0,  67, 255, 200, 170, 170, 170, 170, 184, 223, 253,\n",
              "        255, 248, 186, 113,  40,   0,   0,   0,   0,   0,   0,   0,   0,\n",
              "          0,   0],\n",
              "       [  0,   0,   0,   0,  92, 200, 204, 204, 204, 204, 196, 158, 120,\n",
              "         73,  11,   0,   0,   0,   0,   0,   0,   0,   0,   0,   0,   0,\n",
              "          0,   0],\n",
              "       [  0,   0,   0,   0,   0,   0,   0,   0,   0,   0,   0,   0,   0,\n",
              "          0,   0,   0,   0,   0,   0,   0,   0,   0,   0,   0,   0,   0,\n",
              "          0,   0],\n",
              "       [  0,   0,   0,   0,   0,   0,   0,   0,   0,   0,   0,   0,   0,\n",
              "          0,   0,   0,   0,   0,   0,   0,   0,   0,   0,   0,   0,   0,\n",
              "          0,   0],\n",
              "       [  0,   0,   0,   0,   0,   0,   0,   0,   0,   0,   0,   0,   0,\n",
              "          0,   0,   0,   0,   0,   0,   0,   0,   0,   0,   0,   0,   0,\n",
              "          0,   0],\n",
              "       [  0,   0,   0,   0,   0,   0,   0,   0,   0,   0,   0,   0,   0,\n",
              "          0,   0,   0,   0,   0,   0,   0,   0,   0,   0,   0,   0,   0,\n",
              "          0,   0]], dtype=uint8)</pre></div><script>\n",
              "      (() => {\n",
              "      const titles = ['show data', 'hide data'];\n",
              "      let index = 0\n",
              "      document.querySelector('#id-618cd448-dea8-47f1-9968-35152b3738c0 button').onclick = (e) => {\n",
              "        document.querySelector('#id-618cd448-dea8-47f1-9968-35152b3738c0').classList.toggle('show_array');\n",
              "        index = (++index) % 2;\n",
              "        document.querySelector('#id-618cd448-dea8-47f1-9968-35152b3738c0 button').textContent = titles[index];\n",
              "        e.preventDefault();\n",
              "        e.stopPropagation();\n",
              "      }\n",
              "      })();\n",
              "    </script>"
            ]
          },
          "metadata": {},
          "execution_count": 38
        }
      ]
    },
    {
      "cell_type": "markdown",
      "source": [
        "##1-2.Convertendo os arquivos"
      ],
      "metadata": {
        "id": "HkEuD-qFcSXS"
      }
    },
    {
      "cell_type": "code",
      "source": [
        "dados=dados.reshape(len(dados),28,28,1)\n",
        "dados.shape"
      ],
      "metadata": {
        "colab": {
          "base_uri": "https://localhost:8080/"
        },
        "id": "XhFUKGoRcRji",
        "outputId": "fe566c95-26ae-4bd6-d8a7-1699f0cf0792"
      },
      "execution_count": null,
      "outputs": [
        {
          "output_type": "execute_result",
          "data": {
            "text/plain": [
              "(144982, 28, 28, 1)"
            ]
          },
          "metadata": {},
          "execution_count": 39
        }
      ]
    },
    {
      "cell_type": "code",
      "source": [
        "#normalizando as imagens\n",
        "dados=dados/255"
      ],
      "metadata": {
        "id": "v3jtJsKlfkcK"
      },
      "execution_count": null,
      "outputs": []
    },
    {
      "cell_type": "code",
      "source": [
        "#retirando a amostra do total de imagens - foi retirada ua amostra de 80000 imagens\n",
        "dados=dados[:90000]"
      ],
      "metadata": {
        "id": "wO67wg8Dkf4a"
      },
      "execution_count": null,
      "outputs": []
    },
    {
      "cell_type": "markdown",
      "source": [
        "#2-CRIANDO OS MODELOS DE DISCRIMINADOR E GERADOR"
      ],
      "metadata": {
        "id": "XpAMikQPrhir"
      }
    },
    {
      "cell_type": "markdown",
      "source": [
        "##2.1- Criando o discriminador\n",
        "--As camadas de L1 e dropout foram inseridas no modelo, mas ele ficou satisfatório.\n",
        "\n",
        "Desta forma, escolheu-se deixar o discriminador com todos os pesos"
      ],
      "metadata": {
        "id": "i4DRC3clRKDV"
      }
    },
    {
      "cell_type": "code",
      "source": [
        "#estabelecendo o input shape da imagem a ser inserida no discriminador\n",
        "input_shape = (28, 28, 1)"
      ],
      "metadata": {
        "id": "k3xuqwZnRCx2"
      },
      "execution_count": null,
      "outputs": []
    },
    {
      "cell_type": "code",
      "source": [
        "import keras\n",
        "from keras.models import Sequential\n",
        "from keras.layers import Input, Flatten, Dense\n",
        "from keras import layers\n",
        "from keras.regularizers import L1, L2, L1L2\n",
        "\n",
        "discriminador = keras.Sequential(name='sequential')\n",
        "discriminador.add(layers.Input(shape=input_shape))\n",
        "\n",
        "discriminador.add(layers.Conv2D(28, kernel_size=(2, 2), activation='relu'))\n",
        "discriminador.add(layers.MaxPool2D())\n",
        "\n",
        "discriminador.add(layers.Conv2D(14, kernel_size=(2, 2), activation='relu'))\n",
        "discriminador.add(layers.MaxPool2D())\n",
        "\n",
        "discriminador.add(layers.Conv2D(32, kernel_size=(2, 2), activation='relu'))\n",
        "discriminador.add(layers.MaxPool2D())\n",
        "\n",
        "discriminador.add(layers.Flatten())\n",
        "discriminador.add(layers.Dense(1, activation='sigmoid'))\n",
        "discriminador.summary()"
      ],
      "metadata": {
        "colab": {
          "base_uri": "https://localhost:8080/",
          "height": 385
        },
        "id": "qXtWXpb1RQc9",
        "outputId": "c53526b8-159d-4b85-ea28-1b67533fc866"
      },
      "execution_count": null,
      "outputs": [
        {
          "output_type": "display_data",
          "data": {
            "text/plain": [
              "\u001b[1mModel: \"sequential\"\u001b[0m\n"
            ],
            "text/html": [
              "<pre style=\"white-space:pre;overflow-x:auto;line-height:normal;font-family:Menlo,'DejaVu Sans Mono',consolas,'Courier New',monospace\"><span style=\"font-weight: bold\">Model: \"sequential\"</span>\n",
              "</pre>\n"
            ]
          },
          "metadata": {}
        },
        {
          "output_type": "display_data",
          "data": {
            "text/plain": [
              "┏━━━━━━━━━━━━━━━━━━━━━━━━━━━━━━━━━━━━━━┳━━━━━━━━━━━━━━━━━━━━━━━━━━━━━┳━━━━━━━━━━━━━━━━━┓\n",
              "┃\u001b[1m \u001b[0m\u001b[1mLayer (type)                        \u001b[0m\u001b[1m \u001b[0m┃\u001b[1m \u001b[0m\u001b[1mOutput Shape               \u001b[0m\u001b[1m \u001b[0m┃\u001b[1m \u001b[0m\u001b[1m        Param #\u001b[0m\u001b[1m \u001b[0m┃\n",
              "┡━━━━━━━━━━━━━━━━━━━━━━━━━━━━━━━━━━━━━━╇━━━━━━━━━━━━━━━━━━━━━━━━━━━━━╇━━━━━━━━━━━━━━━━━┩\n",
              "│ conv2d_6 (\u001b[38;5;33mConv2D\u001b[0m)                    │ (\u001b[38;5;45mNone\u001b[0m, \u001b[38;5;34m27\u001b[0m, \u001b[38;5;34m27\u001b[0m, \u001b[38;5;34m28\u001b[0m)          │             \u001b[38;5;34m140\u001b[0m │\n",
              "├──────────────────────────────────────┼─────────────────────────────┼─────────────────┤\n",
              "│ max_pooling2d_5 (\u001b[38;5;33mMaxPooling2D\u001b[0m)       │ (\u001b[38;5;45mNone\u001b[0m, \u001b[38;5;34m13\u001b[0m, \u001b[38;5;34m13\u001b[0m, \u001b[38;5;34m28\u001b[0m)          │               \u001b[38;5;34m0\u001b[0m │\n",
              "├──────────────────────────────────────┼─────────────────────────────┼─────────────────┤\n",
              "│ conv2d_7 (\u001b[38;5;33mConv2D\u001b[0m)                    │ (\u001b[38;5;45mNone\u001b[0m, \u001b[38;5;34m12\u001b[0m, \u001b[38;5;34m12\u001b[0m, \u001b[38;5;34m14\u001b[0m)          │           \u001b[38;5;34m1,582\u001b[0m │\n",
              "├──────────────────────────────────────┼─────────────────────────────┼─────────────────┤\n",
              "│ max_pooling2d_6 (\u001b[38;5;33mMaxPooling2D\u001b[0m)       │ (\u001b[38;5;45mNone\u001b[0m, \u001b[38;5;34m6\u001b[0m, \u001b[38;5;34m6\u001b[0m, \u001b[38;5;34m14\u001b[0m)            │               \u001b[38;5;34m0\u001b[0m │\n",
              "├──────────────────────────────────────┼─────────────────────────────┼─────────────────┤\n",
              "│ conv2d_8 (\u001b[38;5;33mConv2D\u001b[0m)                    │ (\u001b[38;5;45mNone\u001b[0m, \u001b[38;5;34m5\u001b[0m, \u001b[38;5;34m5\u001b[0m, \u001b[38;5;34m32\u001b[0m)            │           \u001b[38;5;34m1,824\u001b[0m │\n",
              "├──────────────────────────────────────┼─────────────────────────────┼─────────────────┤\n",
              "│ max_pooling2d_7 (\u001b[38;5;33mMaxPooling2D\u001b[0m)       │ (\u001b[38;5;45mNone\u001b[0m, \u001b[38;5;34m2\u001b[0m, \u001b[38;5;34m2\u001b[0m, \u001b[38;5;34m32\u001b[0m)            │               \u001b[38;5;34m0\u001b[0m │\n",
              "├──────────────────────────────────────┼─────────────────────────────┼─────────────────┤\n",
              "│ flatten_1 (\u001b[38;5;33mFlatten\u001b[0m)                  │ (\u001b[38;5;45mNone\u001b[0m, \u001b[38;5;34m128\u001b[0m)                 │               \u001b[38;5;34m0\u001b[0m │\n",
              "├──────────────────────────────────────┼─────────────────────────────┼─────────────────┤\n",
              "│ dense_2 (\u001b[38;5;33mDense\u001b[0m)                      │ (\u001b[38;5;45mNone\u001b[0m, \u001b[38;5;34m1\u001b[0m)                   │             \u001b[38;5;34m129\u001b[0m │\n",
              "└──────────────────────────────────────┴─────────────────────────────┴─────────────────┘\n"
            ],
            "text/html": [
              "<pre style=\"white-space:pre;overflow-x:auto;line-height:normal;font-family:Menlo,'DejaVu Sans Mono',consolas,'Courier New',monospace\">┏━━━━━━━━━━━━━━━━━━━━━━━━━━━━━━━━━━━━━━┳━━━━━━━━━━━━━━━━━━━━━━━━━━━━━┳━━━━━━━━━━━━━━━━━┓\n",
              "┃<span style=\"font-weight: bold\"> Layer (type)                         </span>┃<span style=\"font-weight: bold\"> Output Shape                </span>┃<span style=\"font-weight: bold\">         Param # </span>┃\n",
              "┡━━━━━━━━━━━━━━━━━━━━━━━━━━━━━━━━━━━━━━╇━━━━━━━━━━━━━━━━━━━━━━━━━━━━━╇━━━━━━━━━━━━━━━━━┩\n",
              "│ conv2d_6 (<span style=\"color: #0087ff; text-decoration-color: #0087ff\">Conv2D</span>)                    │ (<span style=\"color: #00d7ff; text-decoration-color: #00d7ff\">None</span>, <span style=\"color: #00af00; text-decoration-color: #00af00\">27</span>, <span style=\"color: #00af00; text-decoration-color: #00af00\">27</span>, <span style=\"color: #00af00; text-decoration-color: #00af00\">28</span>)          │             <span style=\"color: #00af00; text-decoration-color: #00af00\">140</span> │\n",
              "├──────────────────────────────────────┼─────────────────────────────┼─────────────────┤\n",
              "│ max_pooling2d_5 (<span style=\"color: #0087ff; text-decoration-color: #0087ff\">MaxPooling2D</span>)       │ (<span style=\"color: #00d7ff; text-decoration-color: #00d7ff\">None</span>, <span style=\"color: #00af00; text-decoration-color: #00af00\">13</span>, <span style=\"color: #00af00; text-decoration-color: #00af00\">13</span>, <span style=\"color: #00af00; text-decoration-color: #00af00\">28</span>)          │               <span style=\"color: #00af00; text-decoration-color: #00af00\">0</span> │\n",
              "├──────────────────────────────────────┼─────────────────────────────┼─────────────────┤\n",
              "│ conv2d_7 (<span style=\"color: #0087ff; text-decoration-color: #0087ff\">Conv2D</span>)                    │ (<span style=\"color: #00d7ff; text-decoration-color: #00d7ff\">None</span>, <span style=\"color: #00af00; text-decoration-color: #00af00\">12</span>, <span style=\"color: #00af00; text-decoration-color: #00af00\">12</span>, <span style=\"color: #00af00; text-decoration-color: #00af00\">14</span>)          │           <span style=\"color: #00af00; text-decoration-color: #00af00\">1,582</span> │\n",
              "├──────────────────────────────────────┼─────────────────────────────┼─────────────────┤\n",
              "│ max_pooling2d_6 (<span style=\"color: #0087ff; text-decoration-color: #0087ff\">MaxPooling2D</span>)       │ (<span style=\"color: #00d7ff; text-decoration-color: #00d7ff\">None</span>, <span style=\"color: #00af00; text-decoration-color: #00af00\">6</span>, <span style=\"color: #00af00; text-decoration-color: #00af00\">6</span>, <span style=\"color: #00af00; text-decoration-color: #00af00\">14</span>)            │               <span style=\"color: #00af00; text-decoration-color: #00af00\">0</span> │\n",
              "├──────────────────────────────────────┼─────────────────────────────┼─────────────────┤\n",
              "│ conv2d_8 (<span style=\"color: #0087ff; text-decoration-color: #0087ff\">Conv2D</span>)                    │ (<span style=\"color: #00d7ff; text-decoration-color: #00d7ff\">None</span>, <span style=\"color: #00af00; text-decoration-color: #00af00\">5</span>, <span style=\"color: #00af00; text-decoration-color: #00af00\">5</span>, <span style=\"color: #00af00; text-decoration-color: #00af00\">32</span>)            │           <span style=\"color: #00af00; text-decoration-color: #00af00\">1,824</span> │\n",
              "├──────────────────────────────────────┼─────────────────────────────┼─────────────────┤\n",
              "│ max_pooling2d_7 (<span style=\"color: #0087ff; text-decoration-color: #0087ff\">MaxPooling2D</span>)       │ (<span style=\"color: #00d7ff; text-decoration-color: #00d7ff\">None</span>, <span style=\"color: #00af00; text-decoration-color: #00af00\">2</span>, <span style=\"color: #00af00; text-decoration-color: #00af00\">2</span>, <span style=\"color: #00af00; text-decoration-color: #00af00\">32</span>)            │               <span style=\"color: #00af00; text-decoration-color: #00af00\">0</span> │\n",
              "├──────────────────────────────────────┼─────────────────────────────┼─────────────────┤\n",
              "│ flatten_1 (<span style=\"color: #0087ff; text-decoration-color: #0087ff\">Flatten</span>)                  │ (<span style=\"color: #00d7ff; text-decoration-color: #00d7ff\">None</span>, <span style=\"color: #00af00; text-decoration-color: #00af00\">128</span>)                 │               <span style=\"color: #00af00; text-decoration-color: #00af00\">0</span> │\n",
              "├──────────────────────────────────────┼─────────────────────────────┼─────────────────┤\n",
              "│ dense_2 (<span style=\"color: #0087ff; text-decoration-color: #0087ff\">Dense</span>)                      │ (<span style=\"color: #00d7ff; text-decoration-color: #00d7ff\">None</span>, <span style=\"color: #00af00; text-decoration-color: #00af00\">1</span>)                   │             <span style=\"color: #00af00; text-decoration-color: #00af00\">129</span> │\n",
              "└──────────────────────────────────────┴─────────────────────────────┴─────────────────┘\n",
              "</pre>\n"
            ]
          },
          "metadata": {}
        },
        {
          "output_type": "display_data",
          "data": {
            "text/plain": [
              "\u001b[1m Total params: \u001b[0m\u001b[38;5;34m3,675\u001b[0m (14.36 KB)\n"
            ],
            "text/html": [
              "<pre style=\"white-space:pre;overflow-x:auto;line-height:normal;font-family:Menlo,'DejaVu Sans Mono',consolas,'Courier New',monospace\"><span style=\"font-weight: bold\"> Total params: </span><span style=\"color: #00af00; text-decoration-color: #00af00\">3,675</span> (14.36 KB)\n",
              "</pre>\n"
            ]
          },
          "metadata": {}
        },
        {
          "output_type": "display_data",
          "data": {
            "text/plain": [
              "\u001b[1m Trainable params: \u001b[0m\u001b[38;5;34m3,675\u001b[0m (14.36 KB)\n"
            ],
            "text/html": [
              "<pre style=\"white-space:pre;overflow-x:auto;line-height:normal;font-family:Menlo,'DejaVu Sans Mono',consolas,'Courier New',monospace\"><span style=\"font-weight: bold\"> Trainable params: </span><span style=\"color: #00af00; text-decoration-color: #00af00\">3,675</span> (14.36 KB)\n",
              "</pre>\n"
            ]
          },
          "metadata": {}
        },
        {
          "output_type": "display_data",
          "data": {
            "text/plain": [
              "\u001b[1m Non-trainable params: \u001b[0m\u001b[38;5;34m0\u001b[0m (0.00 B)\n"
            ],
            "text/html": [
              "<pre style=\"white-space:pre;overflow-x:auto;line-height:normal;font-family:Menlo,'DejaVu Sans Mono',consolas,'Courier New',monospace\"><span style=\"font-weight: bold\"> Non-trainable params: </span><span style=\"color: #00af00; text-decoration-color: #00af00\">0</span> (0.00 B)\n",
              "</pre>\n"
            ]
          },
          "metadata": {}
        }
      ]
    },
    {
      "cell_type": "markdown",
      "source": [
        "##2.2-GERADOR\n",
        "\n",
        "--Foram inseridas camadas de Leaky RELU"
      ],
      "metadata": {
        "id": "tVyxD0JARcQk"
      }
    },
    {
      "cell_type": "code",
      "source": [
        "from keras.layers import Reshape"
      ],
      "metadata": {
        "id": "v8jyKRjFRcAD"
      },
      "execution_count": null,
      "outputs": []
    },
    {
      "cell_type": "code",
      "source": [
        "latent_dim = 100"
      ],
      "metadata": {
        "id": "btooM3ffRPmc"
      },
      "execution_count": null,
      "outputs": []
    },
    {
      "cell_type": "code",
      "source": [
        "latent_dim = 100\n",
        "\n",
        "gerador = keras.Sequential(name='gerador')\n",
        "gerador.add(layers.Input(shape=(latent_dim, )))\n",
        "gerador.add(layers.Dense(7*7*16)) # 784\n",
        "gerador.add(layers.Reshape((7 , 7, 16)))\n",
        "gerador.add(layers.Conv2DTranspose(14, kernel_size=(3, 3), strides=2, padding='same'))\n",
        "gerador.add(layers.LeakyReLU(alpha=0.2))\n",
        "gerador.add(layers.Conv2DTranspose(28, kernel_size=(3, 3), strides=2, padding='same'))\n",
        "gerador.add(layers.LeakyReLU(alpha=0.2))\n",
        "gerador.add(layers.Conv2DTranspose(1, kernel_size=(3, 3), strides=1, padding='same', activation='sigmoid'))\n",
        "gerador.summary()"
      ],
      "metadata": {
        "colab": {
          "base_uri": "https://localhost:8080/",
          "height": 408
        },
        "id": "GGWCfmx3RiLb",
        "outputId": "e6d382ec-e465-4401-f781-f112dc1d575c"
      },
      "execution_count": null,
      "outputs": [
        {
          "output_type": "stream",
          "name": "stderr",
          "text": [
            "/usr/local/lib/python3.10/dist-packages/keras/src/layers/activations/leaky_relu.py:41: UserWarning: Argument `alpha` is deprecated. Use `negative_slope` instead.\n",
            "  warnings.warn(\n"
          ]
        },
        {
          "output_type": "display_data",
          "data": {
            "text/plain": [
              "\u001b[1mModel: \"gerador\"\u001b[0m\n"
            ],
            "text/html": [
              "<pre style=\"white-space:pre;overflow-x:auto;line-height:normal;font-family:Menlo,'DejaVu Sans Mono',consolas,'Courier New',monospace\"><span style=\"font-weight: bold\">Model: \"gerador\"</span>\n",
              "</pre>\n"
            ]
          },
          "metadata": {}
        },
        {
          "output_type": "display_data",
          "data": {
            "text/plain": [
              "┏━━━━━━━━━━━━━━━━━━━━━━━━━━━━━━━━━━━━━━┳━━━━━━━━━━━━━━━━━━━━━━━━━━━━━┳━━━━━━━━━━━━━━━━━┓\n",
              "┃\u001b[1m \u001b[0m\u001b[1mLayer (type)                        \u001b[0m\u001b[1m \u001b[0m┃\u001b[1m \u001b[0m\u001b[1mOutput Shape               \u001b[0m\u001b[1m \u001b[0m┃\u001b[1m \u001b[0m\u001b[1m        Param #\u001b[0m\u001b[1m \u001b[0m┃\n",
              "┡━━━━━━━━━━━━━━━━━━━━━━━━━━━━━━━━━━━━━━╇━━━━━━━━━━━━━━━━━━━━━━━━━━━━━╇━━━━━━━━━━━━━━━━━┩\n",
              "│ dense_3 (\u001b[38;5;33mDense\u001b[0m)                      │ (\u001b[38;5;45mNone\u001b[0m, \u001b[38;5;34m784\u001b[0m)                 │          \u001b[38;5;34m79,184\u001b[0m │\n",
              "├──────────────────────────────────────┼─────────────────────────────┼─────────────────┤\n",
              "│ reshape_1 (\u001b[38;5;33mReshape\u001b[0m)                  │ (\u001b[38;5;45mNone\u001b[0m, \u001b[38;5;34m7\u001b[0m, \u001b[38;5;34m7\u001b[0m, \u001b[38;5;34m16\u001b[0m)            │               \u001b[38;5;34m0\u001b[0m │\n",
              "├──────────────────────────────────────┼─────────────────────────────┼─────────────────┤\n",
              "│ conv2d_transpose_5 (\u001b[38;5;33mConv2DTranspose\u001b[0m) │ (\u001b[38;5;45mNone\u001b[0m, \u001b[38;5;34m14\u001b[0m, \u001b[38;5;34m14\u001b[0m, \u001b[38;5;34m14\u001b[0m)          │           \u001b[38;5;34m2,030\u001b[0m │\n",
              "├──────────────────────────────────────┼─────────────────────────────┼─────────────────┤\n",
              "│ leaky_re_lu_4 (\u001b[38;5;33mLeakyReLU\u001b[0m)            │ (\u001b[38;5;45mNone\u001b[0m, \u001b[38;5;34m14\u001b[0m, \u001b[38;5;34m14\u001b[0m, \u001b[38;5;34m14\u001b[0m)          │               \u001b[38;5;34m0\u001b[0m │\n",
              "├──────────────────────────────────────┼─────────────────────────────┼─────────────────┤\n",
              "│ conv2d_transpose_6 (\u001b[38;5;33mConv2DTranspose\u001b[0m) │ (\u001b[38;5;45mNone\u001b[0m, \u001b[38;5;34m28\u001b[0m, \u001b[38;5;34m28\u001b[0m, \u001b[38;5;34m28\u001b[0m)          │           \u001b[38;5;34m3,556\u001b[0m │\n",
              "├──────────────────────────────────────┼─────────────────────────────┼─────────────────┤\n",
              "│ leaky_re_lu_5 (\u001b[38;5;33mLeakyReLU\u001b[0m)            │ (\u001b[38;5;45mNone\u001b[0m, \u001b[38;5;34m28\u001b[0m, \u001b[38;5;34m28\u001b[0m, \u001b[38;5;34m28\u001b[0m)          │               \u001b[38;5;34m0\u001b[0m │\n",
              "├──────────────────────────────────────┼─────────────────────────────┼─────────────────┤\n",
              "│ conv2d_transpose_7 (\u001b[38;5;33mConv2DTranspose\u001b[0m) │ (\u001b[38;5;45mNone\u001b[0m, \u001b[38;5;34m28\u001b[0m, \u001b[38;5;34m28\u001b[0m, \u001b[38;5;34m1\u001b[0m)           │             \u001b[38;5;34m253\u001b[0m │\n",
              "└──────────────────────────────────────┴─────────────────────────────┴─────────────────┘\n"
            ],
            "text/html": [
              "<pre style=\"white-space:pre;overflow-x:auto;line-height:normal;font-family:Menlo,'DejaVu Sans Mono',consolas,'Courier New',monospace\">┏━━━━━━━━━━━━━━━━━━━━━━━━━━━━━━━━━━━━━━┳━━━━━━━━━━━━━━━━━━━━━━━━━━━━━┳━━━━━━━━━━━━━━━━━┓\n",
              "┃<span style=\"font-weight: bold\"> Layer (type)                         </span>┃<span style=\"font-weight: bold\"> Output Shape                </span>┃<span style=\"font-weight: bold\">         Param # </span>┃\n",
              "┡━━━━━━━━━━━━━━━━━━━━━━━━━━━━━━━━━━━━━━╇━━━━━━━━━━━━━━━━━━━━━━━━━━━━━╇━━━━━━━━━━━━━━━━━┩\n",
              "│ dense_3 (<span style=\"color: #0087ff; text-decoration-color: #0087ff\">Dense</span>)                      │ (<span style=\"color: #00d7ff; text-decoration-color: #00d7ff\">None</span>, <span style=\"color: #00af00; text-decoration-color: #00af00\">784</span>)                 │          <span style=\"color: #00af00; text-decoration-color: #00af00\">79,184</span> │\n",
              "├──────────────────────────────────────┼─────────────────────────────┼─────────────────┤\n",
              "│ reshape_1 (<span style=\"color: #0087ff; text-decoration-color: #0087ff\">Reshape</span>)                  │ (<span style=\"color: #00d7ff; text-decoration-color: #00d7ff\">None</span>, <span style=\"color: #00af00; text-decoration-color: #00af00\">7</span>, <span style=\"color: #00af00; text-decoration-color: #00af00\">7</span>, <span style=\"color: #00af00; text-decoration-color: #00af00\">16</span>)            │               <span style=\"color: #00af00; text-decoration-color: #00af00\">0</span> │\n",
              "├──────────────────────────────────────┼─────────────────────────────┼─────────────────┤\n",
              "│ conv2d_transpose_5 (<span style=\"color: #0087ff; text-decoration-color: #0087ff\">Conv2DTranspose</span>) │ (<span style=\"color: #00d7ff; text-decoration-color: #00d7ff\">None</span>, <span style=\"color: #00af00; text-decoration-color: #00af00\">14</span>, <span style=\"color: #00af00; text-decoration-color: #00af00\">14</span>, <span style=\"color: #00af00; text-decoration-color: #00af00\">14</span>)          │           <span style=\"color: #00af00; text-decoration-color: #00af00\">2,030</span> │\n",
              "├──────────────────────────────────────┼─────────────────────────────┼─────────────────┤\n",
              "│ leaky_re_lu_4 (<span style=\"color: #0087ff; text-decoration-color: #0087ff\">LeakyReLU</span>)            │ (<span style=\"color: #00d7ff; text-decoration-color: #00d7ff\">None</span>, <span style=\"color: #00af00; text-decoration-color: #00af00\">14</span>, <span style=\"color: #00af00; text-decoration-color: #00af00\">14</span>, <span style=\"color: #00af00; text-decoration-color: #00af00\">14</span>)          │               <span style=\"color: #00af00; text-decoration-color: #00af00\">0</span> │\n",
              "├──────────────────────────────────────┼─────────────────────────────┼─────────────────┤\n",
              "│ conv2d_transpose_6 (<span style=\"color: #0087ff; text-decoration-color: #0087ff\">Conv2DTranspose</span>) │ (<span style=\"color: #00d7ff; text-decoration-color: #00d7ff\">None</span>, <span style=\"color: #00af00; text-decoration-color: #00af00\">28</span>, <span style=\"color: #00af00; text-decoration-color: #00af00\">28</span>, <span style=\"color: #00af00; text-decoration-color: #00af00\">28</span>)          │           <span style=\"color: #00af00; text-decoration-color: #00af00\">3,556</span> │\n",
              "├──────────────────────────────────────┼─────────────────────────────┼─────────────────┤\n",
              "│ leaky_re_lu_5 (<span style=\"color: #0087ff; text-decoration-color: #0087ff\">LeakyReLU</span>)            │ (<span style=\"color: #00d7ff; text-decoration-color: #00d7ff\">None</span>, <span style=\"color: #00af00; text-decoration-color: #00af00\">28</span>, <span style=\"color: #00af00; text-decoration-color: #00af00\">28</span>, <span style=\"color: #00af00; text-decoration-color: #00af00\">28</span>)          │               <span style=\"color: #00af00; text-decoration-color: #00af00\">0</span> │\n",
              "├──────────────────────────────────────┼─────────────────────────────┼─────────────────┤\n",
              "│ conv2d_transpose_7 (<span style=\"color: #0087ff; text-decoration-color: #0087ff\">Conv2DTranspose</span>) │ (<span style=\"color: #00d7ff; text-decoration-color: #00d7ff\">None</span>, <span style=\"color: #00af00; text-decoration-color: #00af00\">28</span>, <span style=\"color: #00af00; text-decoration-color: #00af00\">28</span>, <span style=\"color: #00af00; text-decoration-color: #00af00\">1</span>)           │             <span style=\"color: #00af00; text-decoration-color: #00af00\">253</span> │\n",
              "└──────────────────────────────────────┴─────────────────────────────┴─────────────────┘\n",
              "</pre>\n"
            ]
          },
          "metadata": {}
        },
        {
          "output_type": "display_data",
          "data": {
            "text/plain": [
              "\u001b[1m Total params: \u001b[0m\u001b[38;5;34m85,023\u001b[0m (332.12 KB)\n"
            ],
            "text/html": [
              "<pre style=\"white-space:pre;overflow-x:auto;line-height:normal;font-family:Menlo,'DejaVu Sans Mono',consolas,'Courier New',monospace\"><span style=\"font-weight: bold\"> Total params: </span><span style=\"color: #00af00; text-decoration-color: #00af00\">85,023</span> (332.12 KB)\n",
              "</pre>\n"
            ]
          },
          "metadata": {}
        },
        {
          "output_type": "display_data",
          "data": {
            "text/plain": [
              "\u001b[1m Trainable params: \u001b[0m\u001b[38;5;34m85,023\u001b[0m (332.12 KB)\n"
            ],
            "text/html": [
              "<pre style=\"white-space:pre;overflow-x:auto;line-height:normal;font-family:Menlo,'DejaVu Sans Mono',consolas,'Courier New',monospace\"><span style=\"font-weight: bold\"> Trainable params: </span><span style=\"color: #00af00; text-decoration-color: #00af00\">85,023</span> (332.12 KB)\n",
              "</pre>\n"
            ]
          },
          "metadata": {}
        },
        {
          "output_type": "display_data",
          "data": {
            "text/plain": [
              "\u001b[1m Non-trainable params: \u001b[0m\u001b[38;5;34m0\u001b[0m (0.00 B)\n"
            ],
            "text/html": [
              "<pre style=\"white-space:pre;overflow-x:auto;line-height:normal;font-family:Menlo,'DejaVu Sans Mono',consolas,'Courier New',monospace\"><span style=\"font-weight: bold\"> Non-trainable params: </span><span style=\"color: #00af00; text-decoration-color: #00af00\">0</span> (0.00 B)\n",
              "</pre>\n"
            ]
          },
          "metadata": {}
        }
      ]
    },
    {
      "cell_type": "code",
      "source": [
        "from keras import ops\n",
        "import tensorflow as tf"
      ],
      "metadata": {
        "id": "F3NdbCGcSDVE"
      },
      "execution_count": null,
      "outputs": []
    },
    {
      "cell_type": "markdown",
      "source": [
        "#3-CRIAÇÃO DAS CLASSES E FUNÇÕES PARA O TREINO DO MODELO"
      ],
      "metadata": {
        "id": "YK8FwZmhvPSH"
      }
    },
    {
      "cell_type": "code",
      "source": [
        "class DCGAN(keras.Model):\n",
        "    # 3 parametros\n",
        "    def __init__(self, discriminador, gerador, latent_dim):\n",
        "        super().__init__()\n",
        "        self.discriminador = discriminador\n",
        "        self.gerador = gerador\n",
        "        self.latent_dim = latent_dim\n",
        "\n",
        "    def compile(self, d_otimizador, g_otimizador, loss_fn):\n",
        "        super().compile()\n",
        "        self.d_otimizador = d_otimizador\n",
        "        self.g_otimizador = g_otimizador\n",
        "        self.loss_fn = loss_fn\n",
        "\n",
        "        self.d_loss_metric = keras.metrics.Mean(name='d_loss')\n",
        "        self.g_loss_metric = keras.metrics.Mean(name='g_loss')\n",
        "\n",
        "    @property\n",
        "    def metrics(self):\n",
        "        return [self.d_loss_metric, self.g_loss_metric]\n",
        "\n",
        "    def train_step(self, imagens_reais):\n",
        "        batch_size = ops.shape(imagens_reais)[0]\n",
        "\n",
        "        vetores_latentes_aleatorios = tf.random.normal(shape=(batch_size, self.latent_dim))\n",
        "        imagens_falsas = self.gerador(vetores_latentes_aleatorios)\n",
        "        imagens = ops.concatenate([imagens_falsas, imagens_reais], axis=0)\n",
        "\n",
        "        label_real = ops.ones([batch_size, 1])\n",
        "        label_fake = ops.zeros([batch_size, 1])\n",
        "        labels = ops.concatenate([label_fake, label_real], axis=0)\n",
        "\n",
        "        # Treinamento do Discriminador\n",
        "        with tf.GradientTape() as tape:\n",
        "            predicoes = self.discriminador(imagens)\n",
        "            d_loss = self.loss_fn(labels, predicoes)\n",
        "\n",
        "        grads = tape.gradient(d_loss, self.discriminador.trainable_weights)\n",
        "        self.d_otimizador.apply_gradients(\n",
        "            zip(grads, self.discriminador.trainable_weights)\n",
        "        )\n",
        "\n",
        "        # Trinamento do Gerador\n",
        "        vetores_latentes_aleatorios = tf.random.normal(shape=(batch_size, self.latent_dim))\n",
        "\n",
        "        labels_ruido = ops.ones([batch_size, 1])\n",
        "\n",
        "        with tf.GradientTape() as tape:\n",
        "            imagens_falsas_reais = self.gerador(vetores_latentes_aleatorios)\n",
        "            predicoes_ruido = self.discriminador(imagens_falsas_reais)\n",
        "            g_loss = self.loss_fn(labels_ruido, predicoes_ruido)\n",
        "\n",
        "        grads = tape.gradient(g_loss, self.gerador.trainable_weights)\n",
        "        self.g_otimizador.apply_gradients(\n",
        "            zip(grads, self.gerador.trainable_weights)\n",
        "        )\n",
        "\n",
        "        # Atualizar a metrica\n",
        "        self.d_loss_metric.update_state(d_loss)\n",
        "        self.g_loss_metric.update_state(g_loss)\n",
        "\n",
        "        return {\n",
        "            'd_loss': self.d_loss_metric.result(),\n",
        "            'g_loss': self.g_loss_metric.result()\n",
        "        }"
      ],
      "metadata": {
        "id": "-M8vo0rtSDSZ"
      },
      "execution_count": null,
      "outputs": []
    },
    {
      "cell_type": "code",
      "source": [
        "import os\n",
        "import matplotlib.pyplot as plt\n",
        "class GANMonitor(keras.callbacks.Callback):\n",
        "    def __init__(self, num_img=3, latent_dim=100, type_gan='gan'):\n",
        "        self.num_img = num_img\n",
        "        self.latent_dim = latent_dim\n",
        "        self.type_gan = type_gan\n",
        "\n",
        "        if not os.path.exists(f'imgs_generate/{self.type_gan}'):\n",
        "            os.makedirs(f'imgs_generate/{self.type_gan}')\n",
        "\n",
        "        self.d_losses = []\n",
        "        self.g_losses = []\n",
        "\n",
        "    #def on_epoch_begin(self, epoch, logs=None):\n",
        "    def on_epoch_end(self, epoch, logs=None):\n",
        "        # Cria um diretório para a época atual\n",
        "        # alterar {epoch:03d} para {epoch:04d} caso trabalhe com 0 até 9999 épocas.\n",
        "        # alterar {epoch:03d} para {epoch:05d} caso trabalhe com 0 até 99999 épocas.\n",
        "        epoch_dir = os.path.join(f'imgs_generate/{self.type_gan}', f'epoch_{epoch:03d}')\n",
        "        if not os.path.exists(epoch_dir):\n",
        "            os.makedirs(epoch_dir)\n",
        "\n",
        "        # Gera imagens a partir de vetores latentes aleatórios\n",
        "        random_latent_vectors = keras.random.normal(\n",
        "            shape=(self.num_img, self.latent_dim), seed=42\n",
        "        )\n",
        "        generated_images = self.model.gerador(random_latent_vectors)\n",
        "        generated_images *= 255  # Converte as imagens para a escala de 0-255\n",
        "        generated_images = generated_images.numpy()  # Converte o tensor para numpy array\n",
        "\n",
        "        for i in range(self.num_img):\n",
        "            img = keras.utils.array_to_img(generated_images[i])\n",
        "            img.save(os.path.join(epoch_dir, f'generated_img_{epoch:03d}_{i}.png'))\n",
        "\n",
        "\n",
        "        self.d_losses.append(logs['d_loss'])\n",
        "        self.g_losses.append(logs['g_loss'])\n",
        "\n",
        "        self.plot_learning_curves()\n",
        "\n",
        "\n",
        "    def plot_learning_curves(self):\n",
        "        # Cria uma figura para os gráficos de perda\n",
        "        plt.figure(figsize=(10, 5))\n",
        "        # Plota a perda do discriminador\n",
        "        plt.plot(self.d_losses, label=\"Discriminator Loss\")\n",
        "        # Plota a perda do gerador\n",
        "        plt.plot(self.g_losses, label=\"Generator Loss\")\n",
        "        # Adiciona rótulo ao eixo x\n",
        "        plt.xlabel(\"Epoch\")\n",
        "        # Adiciona rótulo ao eixo y\n",
        "        plt.ylabel(\"Loss\")\n",
        "        # Adiciona a legenda ao gráfico\n",
        "        plt.legend()\n",
        "        # Adiciona um título ao gráfico\n",
        "        plt.title(\"Learning Curves\")\n",
        "        # Salva o gráfico em um arquivo\n",
        "        plt.savefig(f'imgs_generate/{self.type_gan}/learning_curves.jpg')\n",
        "        # Fecha a figura para liberar memória\n",
        "        plt.close()\n"
      ],
      "metadata": {
        "id": "ijpGy_O0SbcN"
      },
      "execution_count": null,
      "outputs": []
    },
    {
      "cell_type": "code",
      "source": [
        "from tensorflow.keras.preprocessing.image import load_img, img_to_array\n",
        "\n",
        "def plot_comparative_images_three_epochs(first_epoch_dir, mid_epoch_dir, last_epoch_dir, num_img=10):\n",
        "    \"\"\"\n",
        "    Plota um comparativo das imagens geradas na primeira, intermediária e última época.\n",
        "\n",
        "    Parameters:\n",
        "    - first_epoch_dir: Diretório contendo as imagens da primeira época.\n",
        "    - mid_epoch_dir: Diretório contendo as imagens da época intermediária.\n",
        "    - last_epoch_dir: Diretório contendo as imagens da última época.\n",
        "    - num_img: Número de imagens a serem comparadas.\n",
        "    \"\"\"\n",
        "    # Lista de arquivos de imagens na primeira época\n",
        "    first_epoch_images = sorted([os.path.join(first_epoch_dir, img) for img in os.listdir(first_epoch_dir)])[:num_img]\n",
        "    # Lista de arquivos de imagens na época intermediária\n",
        "    mid_epoch_images = sorted([os.path.join(mid_epoch_dir, img) for img in os.listdir(mid_epoch_dir)])[:num_img]\n",
        "    # Lista de arquivos de imagens na última época\n",
        "    last_epoch_images = sorted([os.path.join(last_epoch_dir, img) for img in os.listdir(last_epoch_dir)])[:num_img]\n",
        "\n",
        "    # Cria uma figura para o comparativo\n",
        "    fig, axes = plt.subplots(3, num_img, figsize=(num_img * 3, 9))\n",
        "    fig.suptitle('Comparativo de Imagens: Primeira, Intermediária e Última Época')\n",
        "\n",
        "    # Plota imagens da primeira época\n",
        "    for i, img_path in enumerate(first_epoch_images):\n",
        "        img = load_img(img_path)\n",
        "        axes[0, i].imshow(img)\n",
        "        axes[0, i].axis('off')\n",
        "        axes[0, i].set_title(f\"Primeira {i+1}\")\n",
        "\n",
        "    # Plota imagens da época intermediária\n",
        "    for i, img_path in enumerate(mid_epoch_images):\n",
        "        img = load_img(img_path)\n",
        "        axes[1, i].imshow(img)\n",
        "        axes[1, i].axis('off')\n",
        "        axes[1, i].set_title(f\"Intermediária {i+1}\")\n",
        "\n",
        "    # Plota imagens da última época\n",
        "    for i, img_path in enumerate(last_epoch_images):\n",
        "        img = load_img(img_path)\n",
        "        axes[2, i].imshow(img)\n",
        "        axes[2, i].axis('off')\n",
        "        axes[2, i].set_title(f\"Última {i+1}\")\n",
        "\n",
        "    plt.show()\n",
        "\n",
        "import matplotlib.image as m_img\n",
        "import matplotlib.pyplot as plt\n",
        "import os\n",
        "\n",
        "def plot_learning_curves_from_file(type_gan='dcgan', figsize=(12, 8)):\n",
        "    \"\"\"\n",
        "    Plota as curvas de aprendizado a partir de um arquivo salvo.\n",
        "\n",
        "    Parameters:\n",
        "    - type_gan: Tipo de GAN usado para gerar as imagens e salvar o arquivo.\n",
        "    - width: Largura da figura.\n",
        "    - height: Altura da figura.\n",
        "    \"\"\"\n",
        "    # Caminho para o arquivo da curva de aprendizado\n",
        "    learning_curves_path = f'imgs_generate/{type_gan}/learning_curves.jpg'\n",
        "\n",
        "    # Verifica se o arquivo existe\n",
        "    if os.path.exists(learning_curves_path):\n",
        "        # Carrega a imagem da curva de aprendizado\n",
        "        img = m_img.imread(learning_curves_path)\n",
        "        # Define o tamanho da figura\n",
        "        plt.figure(figsize=figsize)\n",
        "        # Exibe a imagem\n",
        "        plt.imshow(img)\n",
        "        plt.axis('off')  # Remove os eixos\n",
        "        plt.show()\n",
        "    else:\n",
        "        print(f\"Arquivo de curva de aprendizado não encontrado em: {learning_curves_path}\")"
      ],
      "metadata": {
        "id": "hU3HNjqLSDOM"
      },
      "execution_count": null,
      "outputs": []
    },
    {
      "cell_type": "markdown",
      "source": [
        "#4-TREINO DO MODELO"
      ],
      "metadata": {
        "id": "wz9I_aqavepC"
      }
    },
    {
      "cell_type": "markdown",
      "source": [
        "\n",
        "--Utilização de 250 épocas e um batch de 250 imagens"
      ],
      "metadata": {
        "id": "QwYX_oT_zxS7"
      }
    },
    {
      "cell_type": "code",
      "source": [
        "epochs = 250\n",
        "\n",
        "dcgan = DCGAN(discriminador, gerador, latent_dim)\n",
        "\n",
        "dcgan.compile(\n",
        "    d_otimizador=keras.optimizers.Adam(learning_rate=0.001),\n",
        "    g_otimizador=keras.optimizers.Adam(learning_rate=0.001),\n",
        "    loss_fn=keras.losses.BinaryCrossentropy()\n",
        ")"
      ],
      "metadata": {
        "id": "_d1g-10xX5GI"
      },
      "execution_count": null,
      "outputs": []
    },
    {
      "cell_type": "code",
      "source": [
        "!rm -rf imgs_generate"
      ],
      "metadata": {
        "id": "kw-8q-YMYR1i"
      },
      "execution_count": null,
      "outputs": []
    },
    {
      "cell_type": "code",
      "source": [
        "dcgan.fit(dados, epochs=epochs, callbacks=[GANMonitor(num_img=250, latent_dim=latent_dim, type_gan='dcgan')])"
      ],
      "metadata": {
        "colab": {
          "base_uri": "https://localhost:8080/"
        },
        "id": "j3szian-X5Di",
        "outputId": "f2a3a03b-c7c8-4500-abe7-112e9c3d76e5"
      },
      "execution_count": null,
      "outputs": [
        {
          "output_type": "stream",
          "name": "stdout",
          "text": [
            "Epoch 1/250\n",
            "\u001b[1m2813/2813\u001b[0m \u001b[32m━━━━━━━━━━━━━━━━━━━━\u001b[0m\u001b[37m\u001b[0m \u001b[1m15s\u001b[0m 3ms/step - d_loss: 0.4142 - g_loss: 1.5095\n",
            "Epoch 2/250\n",
            "\u001b[1m2813/2813\u001b[0m \u001b[32m━━━━━━━━━━━━━━━━━━━━\u001b[0m\u001b[37m\u001b[0m \u001b[1m7s\u001b[0m 2ms/step - d_loss: 0.4183 - g_loss: 1.4306\n",
            "Epoch 3/250\n",
            "\u001b[1m2813/2813\u001b[0m \u001b[32m━━━━━━━━━━━━━━━━━━━━\u001b[0m\u001b[37m\u001b[0m \u001b[1m7s\u001b[0m 2ms/step - d_loss: 0.3196 - g_loss: 1.9437\n",
            "Epoch 4/250\n",
            "\u001b[1m2813/2813\u001b[0m \u001b[32m━━━━━━━━━━━━━━━━━━━━\u001b[0m\u001b[37m\u001b[0m \u001b[1m7s\u001b[0m 2ms/step - d_loss: 0.3002 - g_loss: 2.1453\n",
            "Epoch 5/250\n",
            "\u001b[1m2813/2813\u001b[0m \u001b[32m━━━━━━━━━━━━━━━━━━━━\u001b[0m\u001b[37m\u001b[0m \u001b[1m7s\u001b[0m 2ms/step - d_loss: 0.2958 - g_loss: 2.2541\n",
            "Epoch 6/250\n",
            "\u001b[1m2813/2813\u001b[0m \u001b[32m━━━━━━━━━━━━━━━━━━━━\u001b[0m\u001b[37m\u001b[0m \u001b[1m7s\u001b[0m 2ms/step - d_loss: 0.2719 - g_loss: 2.3522\n",
            "Epoch 7/250\n",
            "\u001b[1m2813/2813\u001b[0m \u001b[32m━━━━━━━━━━━━━━━━━━━━\u001b[0m\u001b[37m\u001b[0m \u001b[1m7s\u001b[0m 2ms/step - d_loss: 0.2445 - g_loss: 2.5480\n",
            "Epoch 8/250\n",
            "\u001b[1m2813/2813\u001b[0m \u001b[32m━━━━━━━━━━━━━━━━━━━━\u001b[0m\u001b[37m\u001b[0m \u001b[1m7s\u001b[0m 2ms/step - d_loss: 0.2265 - g_loss: 2.7072\n",
            "Epoch 9/250\n",
            "\u001b[1m2813/2813\u001b[0m \u001b[32m━━━━━━━━━━━━━━━━━━━━\u001b[0m\u001b[37m\u001b[0m \u001b[1m8s\u001b[0m 3ms/step - d_loss: 0.2158 - g_loss: 2.8061\n",
            "Epoch 10/250\n",
            "\u001b[1m2813/2813\u001b[0m \u001b[32m━━━━━━━━━━━━━━━━━━━━\u001b[0m\u001b[37m\u001b[0m \u001b[1m7s\u001b[0m 2ms/step - d_loss: 0.2041 - g_loss: 2.8794\n",
            "Epoch 11/250\n",
            "\u001b[1m2813/2813\u001b[0m \u001b[32m━━━━━━━━━━━━━━━━━━━━\u001b[0m\u001b[37m\u001b[0m \u001b[1m7s\u001b[0m 2ms/step - d_loss: 0.1820 - g_loss: 3.0856\n",
            "Epoch 12/250\n",
            "\u001b[1m2813/2813\u001b[0m \u001b[32m━━━━━━━━━━━━━━━━━━━━\u001b[0m\u001b[37m\u001b[0m \u001b[1m7s\u001b[0m 2ms/step - d_loss: 0.1843 - g_loss: 3.1838\n",
            "Epoch 13/250\n",
            "\u001b[1m2813/2813\u001b[0m \u001b[32m━━━━━━━━━━━━━━━━━━━━\u001b[0m\u001b[37m\u001b[0m \u001b[1m7s\u001b[0m 2ms/step - d_loss: 0.1719 - g_loss: 3.2847\n",
            "Epoch 14/250\n",
            "\u001b[1m2813/2813\u001b[0m \u001b[32m━━━━━━━━━━━━━━━━━━━━\u001b[0m\u001b[37m\u001b[0m \u001b[1m7s\u001b[0m 2ms/step - d_loss: 0.1634 - g_loss: 3.4515\n",
            "Epoch 15/250\n",
            "\u001b[1m2813/2813\u001b[0m \u001b[32m━━━━━━━━━━━━━━━━━━━━\u001b[0m\u001b[37m\u001b[0m \u001b[1m7s\u001b[0m 2ms/step - d_loss: 0.1633 - g_loss: 3.4904\n",
            "Epoch 16/250\n",
            "\u001b[1m2813/2813\u001b[0m \u001b[32m━━━━━━━━━━━━━━━━━━━━\u001b[0m\u001b[37m\u001b[0m \u001b[1m7s\u001b[0m 2ms/step - d_loss: 0.1661 - g_loss: 3.5373\n",
            "Epoch 17/250\n",
            "\u001b[1m2813/2813\u001b[0m \u001b[32m━━━━━━━━━━━━━━━━━━━━\u001b[0m\u001b[37m\u001b[0m \u001b[1m7s\u001b[0m 2ms/step - d_loss: 0.1629 - g_loss: 3.5723\n",
            "Epoch 18/250\n",
            "\u001b[1m2813/2813\u001b[0m \u001b[32m━━━━━━━━━━━━━━━━━━━━\u001b[0m\u001b[37m\u001b[0m \u001b[1m7s\u001b[0m 2ms/step - d_loss: 0.1551 - g_loss: 3.6194\n",
            "Epoch 19/250\n",
            "\u001b[1m2813/2813\u001b[0m \u001b[32m━━━━━━━━━━━━━━━━━━━━\u001b[0m\u001b[37m\u001b[0m \u001b[1m7s\u001b[0m 2ms/step - d_loss: 0.1511 - g_loss: 3.6816\n",
            "Epoch 20/250\n",
            "\u001b[1m2813/2813\u001b[0m \u001b[32m━━━━━━━━━━━━━━━━━━━━\u001b[0m\u001b[37m\u001b[0m \u001b[1m7s\u001b[0m 2ms/step - d_loss: 0.1457 - g_loss: 3.7155\n",
            "Epoch 21/250\n",
            "\u001b[1m2813/2813\u001b[0m \u001b[32m━━━━━━━━━━━━━━━━━━━━\u001b[0m\u001b[37m\u001b[0m \u001b[1m7s\u001b[0m 2ms/step - d_loss: 0.1420 - g_loss: 3.8206\n",
            "Epoch 22/250\n",
            "\u001b[1m2813/2813\u001b[0m \u001b[32m━━━━━━━━━━━━━━━━━━━━\u001b[0m\u001b[37m\u001b[0m \u001b[1m7s\u001b[0m 2ms/step - d_loss: 0.1397 - g_loss: 3.8568\n",
            "Epoch 23/250\n",
            "\u001b[1m2813/2813\u001b[0m \u001b[32m━━━━━━━━━━━━━━━━━━━━\u001b[0m\u001b[37m\u001b[0m \u001b[1m7s\u001b[0m 2ms/step - d_loss: 0.1344 - g_loss: 3.9058\n",
            "Epoch 24/250\n",
            "\u001b[1m2813/2813\u001b[0m \u001b[32m━━━━━━━━━━━━━━━━━━━━\u001b[0m\u001b[37m\u001b[0m \u001b[1m7s\u001b[0m 2ms/step - d_loss: 0.1334 - g_loss: 3.9657\n",
            "Epoch 25/250\n",
            "\u001b[1m2813/2813\u001b[0m \u001b[32m━━━━━━━━━━━━━━━━━━━━\u001b[0m\u001b[37m\u001b[0m \u001b[1m7s\u001b[0m 2ms/step - d_loss: 0.1319 - g_loss: 4.0018\n",
            "Epoch 26/250\n",
            "\u001b[1m2813/2813\u001b[0m \u001b[32m━━━━━━━━━━━━━━━━━━━━\u001b[0m\u001b[37m\u001b[0m \u001b[1m7s\u001b[0m 2ms/step - d_loss: 0.1273 - g_loss: 4.0750\n",
            "Epoch 27/250\n",
            "\u001b[1m2813/2813\u001b[0m \u001b[32m━━━━━━━━━━━━━━━━━━━━\u001b[0m\u001b[37m\u001b[0m \u001b[1m7s\u001b[0m 2ms/step - d_loss: 0.1320 - g_loss: 4.0369\n",
            "Epoch 28/250\n",
            "\u001b[1m2813/2813\u001b[0m \u001b[32m━━━━━━━━━━━━━━━━━━━━\u001b[0m\u001b[37m\u001b[0m \u001b[1m7s\u001b[0m 2ms/step - d_loss: 0.1305 - g_loss: 4.0340\n",
            "Epoch 29/250\n",
            "\u001b[1m2813/2813\u001b[0m \u001b[32m━━━━━━━━━━━━━━━━━━━━\u001b[0m\u001b[37m\u001b[0m \u001b[1m7s\u001b[0m 2ms/step - d_loss: 0.1288 - g_loss: 4.0525\n",
            "Epoch 30/250\n",
            "\u001b[1m2813/2813\u001b[0m \u001b[32m━━━━━━━━━━━━━━━━━━━━\u001b[0m\u001b[37m\u001b[0m \u001b[1m7s\u001b[0m 2ms/step - d_loss: 0.1283 - g_loss: 4.1004\n",
            "Epoch 31/250\n",
            "\u001b[1m2813/2813\u001b[0m \u001b[32m━━━━━━━━━━━━━━━━━━━━\u001b[0m\u001b[37m\u001b[0m \u001b[1m7s\u001b[0m 2ms/step - d_loss: 0.1251 - g_loss: 4.1603\n",
            "Epoch 32/250\n",
            "\u001b[1m2813/2813\u001b[0m \u001b[32m━━━━━━━━━━━━━━━━━━━━\u001b[0m\u001b[37m\u001b[0m \u001b[1m7s\u001b[0m 2ms/step - d_loss: 0.1236 - g_loss: 4.2087\n",
            "Epoch 33/250\n",
            "\u001b[1m2813/2813\u001b[0m \u001b[32m━━━━━━━━━━━━━━━━━━━━\u001b[0m\u001b[37m\u001b[0m \u001b[1m7s\u001b[0m 2ms/step - d_loss: 0.1238 - g_loss: 4.2316\n",
            "Epoch 34/250\n",
            "\u001b[1m2813/2813\u001b[0m \u001b[32m━━━━━━━━━━━━━━━━━━━━\u001b[0m\u001b[37m\u001b[0m \u001b[1m7s\u001b[0m 2ms/step - d_loss: 0.1258 - g_loss: 4.2150\n",
            "Epoch 35/250\n",
            "\u001b[1m2813/2813\u001b[0m \u001b[32m━━━━━━━━━━━━━━━━━━━━\u001b[0m\u001b[37m\u001b[0m \u001b[1m7s\u001b[0m 2ms/step - d_loss: 0.1264 - g_loss: 4.1844\n",
            "Epoch 36/250\n",
            "\u001b[1m2813/2813\u001b[0m \u001b[32m━━━━━━━━━━━━━━━━━━━━\u001b[0m\u001b[37m\u001b[0m \u001b[1m7s\u001b[0m 2ms/step - d_loss: 0.1210 - g_loss: 4.2319\n",
            "Epoch 37/250\n",
            "\u001b[1m2813/2813\u001b[0m \u001b[32m━━━━━━━━━━━━━━━━━━━━\u001b[0m\u001b[37m\u001b[0m \u001b[1m7s\u001b[0m 2ms/step - d_loss: 0.1195 - g_loss: 4.3100\n",
            "Epoch 38/250\n",
            "\u001b[1m2813/2813\u001b[0m \u001b[32m━━━━━━━━━━━━━━━━━━━━\u001b[0m\u001b[37m\u001b[0m \u001b[1m7s\u001b[0m 2ms/step - d_loss: 0.1199 - g_loss: 4.2623\n",
            "Epoch 39/250\n",
            "\u001b[1m2813/2813\u001b[0m \u001b[32m━━━━━━━━━━━━━━━━━━━━\u001b[0m\u001b[37m\u001b[0m \u001b[1m7s\u001b[0m 2ms/step - d_loss: 0.1180 - g_loss: 4.2818\n",
            "Epoch 40/250\n",
            "\u001b[1m2813/2813\u001b[0m \u001b[32m━━━━━━━━━━━━━━━━━━━━\u001b[0m\u001b[37m\u001b[0m \u001b[1m7s\u001b[0m 2ms/step - d_loss: 0.1152 - g_loss: 4.2971\n",
            "Epoch 41/250\n",
            "\u001b[1m2813/2813\u001b[0m \u001b[32m━━━━━━━━━━━━━━━━━━━━\u001b[0m\u001b[37m\u001b[0m \u001b[1m7s\u001b[0m 2ms/step - d_loss: 0.1169 - g_loss: 4.3172\n",
            "Epoch 42/250\n",
            "\u001b[1m2813/2813\u001b[0m \u001b[32m━━━━━━━━━━━━━━━━━━━━\u001b[0m\u001b[37m\u001b[0m \u001b[1m7s\u001b[0m 2ms/step - d_loss: 0.1114 - g_loss: 4.2741\n",
            "Epoch 43/250\n",
            "\u001b[1m2813/2813\u001b[0m \u001b[32m━━━━━━━━━━━━━━━━━━━━\u001b[0m\u001b[37m\u001b[0m \u001b[1m7s\u001b[0m 2ms/step - d_loss: 0.1138 - g_loss: 4.3249\n",
            "Epoch 44/250\n",
            "\u001b[1m2813/2813\u001b[0m \u001b[32m━━━━━━━━━━━━━━━━━━━━\u001b[0m\u001b[37m\u001b[0m \u001b[1m7s\u001b[0m 2ms/step - d_loss: 0.1138 - g_loss: 4.3217\n",
            "Epoch 45/250\n",
            "\u001b[1m2813/2813\u001b[0m \u001b[32m━━━━━━━━━━━━━━━━━━━━\u001b[0m\u001b[37m\u001b[0m \u001b[1m7s\u001b[0m 2ms/step - d_loss: 0.1125 - g_loss: 4.3432\n",
            "Epoch 46/250\n",
            "\u001b[1m2813/2813\u001b[0m \u001b[32m━━━━━━━━━━━━━━━━━━━━\u001b[0m\u001b[37m\u001b[0m \u001b[1m7s\u001b[0m 2ms/step - d_loss: 0.1096 - g_loss: 4.3671\n",
            "Epoch 47/250\n",
            "\u001b[1m2813/2813\u001b[0m \u001b[32m━━━━━━━━━━━━━━━━━━━━\u001b[0m\u001b[37m\u001b[0m \u001b[1m7s\u001b[0m 2ms/step - d_loss: 0.1082 - g_loss: 4.4156\n",
            "Epoch 48/250\n",
            "\u001b[1m2813/2813\u001b[0m \u001b[32m━━━━━━━━━━━━━━━━━━━━\u001b[0m\u001b[37m\u001b[0m \u001b[1m7s\u001b[0m 2ms/step - d_loss: 0.1066 - g_loss: 4.4347\n",
            "Epoch 49/250\n",
            "\u001b[1m2813/2813\u001b[0m \u001b[32m━━━━━━━━━━━━━━━━━━━━\u001b[0m\u001b[37m\u001b[0m \u001b[1m7s\u001b[0m 2ms/step - d_loss: 0.1051 - g_loss: 4.4951\n",
            "Epoch 50/250\n",
            "\u001b[1m2813/2813\u001b[0m \u001b[32m━━━━━━━━━━━━━━━━━━━━\u001b[0m\u001b[37m\u001b[0m \u001b[1m7s\u001b[0m 2ms/step - d_loss: 0.1029 - g_loss: 4.5479\n",
            "Epoch 51/250\n",
            "\u001b[1m2813/2813\u001b[0m \u001b[32m━━━━━━━━━━━━━━━━━━━━\u001b[0m\u001b[37m\u001b[0m \u001b[1m7s\u001b[0m 2ms/step - d_loss: 0.1032 - g_loss: 4.5570\n",
            "Epoch 52/250\n",
            "\u001b[1m2813/2813\u001b[0m \u001b[32m━━━━━━━━━━━━━━━━━━━━\u001b[0m\u001b[37m\u001b[0m \u001b[1m7s\u001b[0m 2ms/step - d_loss: 0.1017 - g_loss: 4.5527\n",
            "Epoch 53/250\n",
            "\u001b[1m2813/2813\u001b[0m \u001b[32m━━━━━━━━━━━━━━━━━━━━\u001b[0m\u001b[37m\u001b[0m \u001b[1m7s\u001b[0m 2ms/step - d_loss: 0.1041 - g_loss: 4.5862\n",
            "Epoch 54/250\n",
            "\u001b[1m2813/2813\u001b[0m \u001b[32m━━━━━━━━━━━━━━━━━━━━\u001b[0m\u001b[37m\u001b[0m \u001b[1m7s\u001b[0m 2ms/step - d_loss: 0.0985 - g_loss: 4.5490\n",
            "Epoch 55/250\n",
            "\u001b[1m2813/2813\u001b[0m \u001b[32m━━━━━━━━━━━━━━━━━━━━\u001b[0m\u001b[37m\u001b[0m \u001b[1m7s\u001b[0m 2ms/step - d_loss: 0.0973 - g_loss: 4.6236\n",
            "Epoch 56/250\n",
            "\u001b[1m2813/2813\u001b[0m \u001b[32m━━━━━━━━━━━━━━━━━━━━\u001b[0m\u001b[37m\u001b[0m \u001b[1m7s\u001b[0m 2ms/step - d_loss: 0.1020 - g_loss: 4.5614\n",
            "Epoch 57/250\n",
            "\u001b[1m2813/2813\u001b[0m \u001b[32m━━━━━━━━━━━━━━━━━━━━\u001b[0m\u001b[37m\u001b[0m \u001b[1m7s\u001b[0m 2ms/step - d_loss: 0.0960 - g_loss: 4.5484\n",
            "Epoch 58/250\n",
            "\u001b[1m2813/2813\u001b[0m \u001b[32m━━━━━━━━━━━━━━━━━━━━\u001b[0m\u001b[37m\u001b[0m \u001b[1m7s\u001b[0m 2ms/step - d_loss: 0.0952 - g_loss: 4.6111\n",
            "Epoch 59/250\n",
            "\u001b[1m2813/2813\u001b[0m \u001b[32m━━━━━━━━━━━━━━━━━━━━\u001b[0m\u001b[37m\u001b[0m \u001b[1m7s\u001b[0m 2ms/step - d_loss: 0.0938 - g_loss: 4.6593\n",
            "Epoch 60/250\n",
            "\u001b[1m2813/2813\u001b[0m \u001b[32m━━━━━━━━━━━━━━━━━━━━\u001b[0m\u001b[37m\u001b[0m \u001b[1m7s\u001b[0m 2ms/step - d_loss: 0.0934 - g_loss: 4.6386\n",
            "Epoch 61/250\n",
            "\u001b[1m2813/2813\u001b[0m \u001b[32m━━━━━━━━━━━━━━━━━━━━\u001b[0m\u001b[37m\u001b[0m \u001b[1m7s\u001b[0m 2ms/step - d_loss: 0.0976 - g_loss: 4.6599\n",
            "Epoch 62/250\n",
            "\u001b[1m2813/2813\u001b[0m \u001b[32m━━━━━━━━━━━━━━━━━━━━\u001b[0m\u001b[37m\u001b[0m \u001b[1m7s\u001b[0m 2ms/step - d_loss: 0.0931 - g_loss: 4.6792\n",
            "Epoch 63/250\n",
            "\u001b[1m2813/2813\u001b[0m \u001b[32m━━━━━━━━━━━━━━━━━━━━\u001b[0m\u001b[37m\u001b[0m \u001b[1m7s\u001b[0m 2ms/step - d_loss: 0.0953 - g_loss: 4.7273\n",
            "Epoch 64/250\n",
            "\u001b[1m2813/2813\u001b[0m \u001b[32m━━━━━━━━━━━━━━━━━━━━\u001b[0m\u001b[37m\u001b[0m \u001b[1m7s\u001b[0m 2ms/step - d_loss: 0.0930 - g_loss: 4.7383\n",
            "Epoch 65/250\n",
            "\u001b[1m2813/2813\u001b[0m \u001b[32m━━━━━━━━━━━━━━━━━━━━\u001b[0m\u001b[37m\u001b[0m \u001b[1m7s\u001b[0m 2ms/step - d_loss: 0.0943 - g_loss: 4.7264\n",
            "Epoch 66/250\n",
            "\u001b[1m2813/2813\u001b[0m \u001b[32m━━━━━━━━━━━━━━━━━━━━\u001b[0m\u001b[37m\u001b[0m \u001b[1m7s\u001b[0m 2ms/step - d_loss: 0.0907 - g_loss: 4.7323\n",
            "Epoch 67/250\n",
            "\u001b[1m2813/2813\u001b[0m \u001b[32m━━━━━━━━━━━━━━━━━━━━\u001b[0m\u001b[37m\u001b[0m \u001b[1m7s\u001b[0m 2ms/step - d_loss: 0.0856 - g_loss: 4.7202\n",
            "Epoch 68/250\n",
            "\u001b[1m2813/2813\u001b[0m \u001b[32m━━━━━━━━━━━━━━━━━━━━\u001b[0m\u001b[37m\u001b[0m \u001b[1m7s\u001b[0m 2ms/step - d_loss: 0.0886 - g_loss: 4.7846\n",
            "Epoch 69/250\n",
            "\u001b[1m2813/2813\u001b[0m \u001b[32m━━━━━━━━━━━━━━━━━━━━\u001b[0m\u001b[37m\u001b[0m \u001b[1m7s\u001b[0m 2ms/step - d_loss: 0.0879 - g_loss: 4.8384\n",
            "Epoch 70/250\n",
            "\u001b[1m2813/2813\u001b[0m \u001b[32m━━━━━━━━━━━━━━━━━━━━\u001b[0m\u001b[37m\u001b[0m \u001b[1m7s\u001b[0m 2ms/step - d_loss: 0.0858 - g_loss: 4.8834\n",
            "Epoch 71/250\n",
            "\u001b[1m2813/2813\u001b[0m \u001b[32m━━━━━━━━━━━━━━━━━━━━\u001b[0m\u001b[37m\u001b[0m \u001b[1m7s\u001b[0m 2ms/step - d_loss: 0.0888 - g_loss: 4.7567\n",
            "Epoch 72/250\n",
            "\u001b[1m2813/2813\u001b[0m \u001b[32m━━━━━━━━━━━━━━━━━━━━\u001b[0m\u001b[37m\u001b[0m \u001b[1m7s\u001b[0m 2ms/step - d_loss: 0.0872 - g_loss: 4.8234\n",
            "Epoch 73/250\n",
            "\u001b[1m2813/2813\u001b[0m \u001b[32m━━━━━━━━━━━━━━━━━━━━\u001b[0m\u001b[37m\u001b[0m \u001b[1m7s\u001b[0m 2ms/step - d_loss: 0.0875 - g_loss: 4.9012\n",
            "Epoch 74/250\n",
            "\u001b[1m2813/2813\u001b[0m \u001b[32m━━━━━━━━━━━━━━━━━━━━\u001b[0m\u001b[37m\u001b[0m \u001b[1m7s\u001b[0m 3ms/step - d_loss: 0.0859 - g_loss: 4.8397\n",
            "Epoch 75/250\n",
            "\u001b[1m2813/2813\u001b[0m \u001b[32m━━━━━━━━━━━━━━━━━━━━\u001b[0m\u001b[37m\u001b[0m \u001b[1m7s\u001b[0m 2ms/step - d_loss: 0.0867 - g_loss: 4.8555\n",
            "Epoch 76/250\n",
            "\u001b[1m2813/2813\u001b[0m \u001b[32m━━━━━━━━━━━━━━━━━━━━\u001b[0m\u001b[37m\u001b[0m \u001b[1m7s\u001b[0m 2ms/step - d_loss: 0.0884 - g_loss: 4.8240\n",
            "Epoch 77/250\n",
            "\u001b[1m2813/2813\u001b[0m \u001b[32m━━━━━━━━━━━━━━━━━━━━\u001b[0m\u001b[37m\u001b[0m \u001b[1m7s\u001b[0m 2ms/step - d_loss: 0.0870 - g_loss: 4.8713\n",
            "Epoch 78/250\n",
            "\u001b[1m2813/2813\u001b[0m \u001b[32m━━━━━━━━━━━━━━━━━━━━\u001b[0m\u001b[37m\u001b[0m \u001b[1m7s\u001b[0m 2ms/step - d_loss: 0.0844 - g_loss: 4.9108\n",
            "Epoch 79/250\n",
            "\u001b[1m2813/2813\u001b[0m \u001b[32m━━━━━━━━━━━━━━━━━━━━\u001b[0m\u001b[37m\u001b[0m \u001b[1m7s\u001b[0m 2ms/step - d_loss: 0.0871 - g_loss: 4.8488\n",
            "Epoch 80/250\n",
            "\u001b[1m2813/2813\u001b[0m \u001b[32m━━━━━━━━━━━━━━━━━━━━\u001b[0m\u001b[37m\u001b[0m \u001b[1m7s\u001b[0m 2ms/step - d_loss: 0.0851 - g_loss: 4.9252\n",
            "Epoch 81/250\n",
            "\u001b[1m2813/2813\u001b[0m \u001b[32m━━━━━━━━━━━━━━━━━━━━\u001b[0m\u001b[37m\u001b[0m \u001b[1m7s\u001b[0m 2ms/step - d_loss: 0.0813 - g_loss: 4.8999\n",
            "Epoch 82/250\n",
            "\u001b[1m2813/2813\u001b[0m \u001b[32m━━━━━━━━━━━━━━━━━━━━\u001b[0m\u001b[37m\u001b[0m \u001b[1m7s\u001b[0m 2ms/step - d_loss: 0.0829 - g_loss: 4.9205\n",
            "Epoch 83/250\n",
            "\u001b[1m2813/2813\u001b[0m \u001b[32m━━━━━━━━━━━━━━━━━━━━\u001b[0m\u001b[37m\u001b[0m \u001b[1m7s\u001b[0m 2ms/step - d_loss: 0.0813 - g_loss: 4.9447\n",
            "Epoch 84/250\n",
            "\u001b[1m2813/2813\u001b[0m \u001b[32m━━━━━━━━━━━━━━━━━━━━\u001b[0m\u001b[37m\u001b[0m \u001b[1m7s\u001b[0m 2ms/step - d_loss: 0.0814 - g_loss: 4.9157\n",
            "Epoch 85/250\n",
            "\u001b[1m2813/2813\u001b[0m \u001b[32m━━━━━━━━━━━━━━━━━━━━\u001b[0m\u001b[37m\u001b[0m \u001b[1m7s\u001b[0m 2ms/step - d_loss: 0.0779 - g_loss: 5.0219\n",
            "Epoch 86/250\n",
            "\u001b[1m2813/2813\u001b[0m \u001b[32m━━━━━━━━━━━━━━━━━━━━\u001b[0m\u001b[37m\u001b[0m \u001b[1m7s\u001b[0m 2ms/step - d_loss: 0.0801 - g_loss: 4.9495\n",
            "Epoch 87/250\n",
            "\u001b[1m2813/2813\u001b[0m \u001b[32m━━━━━━━━━━━━━━━━━━━━\u001b[0m\u001b[37m\u001b[0m \u001b[1m7s\u001b[0m 2ms/step - d_loss: 0.0801 - g_loss: 5.0194\n",
            "Epoch 88/250\n",
            "\u001b[1m2813/2813\u001b[0m \u001b[32m━━━━━━━━━━━━━━━━━━━━\u001b[0m\u001b[37m\u001b[0m \u001b[1m7s\u001b[0m 2ms/step - d_loss: 0.0745 - g_loss: 5.1118\n",
            "Epoch 89/250\n",
            "\u001b[1m2813/2813\u001b[0m \u001b[32m━━━━━━━━━━━━━━━━━━━━\u001b[0m\u001b[37m\u001b[0m \u001b[1m7s\u001b[0m 2ms/step - d_loss: 0.0774 - g_loss: 5.0037\n",
            "Epoch 90/250\n",
            "\u001b[1m2813/2813\u001b[0m \u001b[32m━━━━━━━━━━━━━━━━━━━━\u001b[0m\u001b[37m\u001b[0m \u001b[1m7s\u001b[0m 2ms/step - d_loss: 0.0781 - g_loss: 5.0514\n",
            "Epoch 91/250\n",
            "\u001b[1m2813/2813\u001b[0m \u001b[32m━━━━━━━━━━━━━━━━━━━━\u001b[0m\u001b[37m\u001b[0m \u001b[1m7s\u001b[0m 2ms/step - d_loss: 0.0726 - g_loss: 5.1486\n",
            "Epoch 92/250\n",
            "\u001b[1m2813/2813\u001b[0m \u001b[32m━━━━━━━━━━━━━━━━━━━━\u001b[0m\u001b[37m\u001b[0m \u001b[1m7s\u001b[0m 2ms/step - d_loss: 0.0747 - g_loss: 5.1325\n",
            "Epoch 93/250\n",
            "\u001b[1m2813/2813\u001b[0m \u001b[32m━━━━━━━━━━━━━━━━━━━━\u001b[0m\u001b[37m\u001b[0m \u001b[1m7s\u001b[0m 2ms/step - d_loss: 0.0794 - g_loss: 4.9707\n",
            "Epoch 94/250\n",
            "\u001b[1m2813/2813\u001b[0m \u001b[32m━━━━━━━━━━━━━━━━━━━━\u001b[0m\u001b[37m\u001b[0m \u001b[1m7s\u001b[0m 3ms/step - d_loss: 0.0762 - g_loss: 5.1056\n",
            "Epoch 95/250\n",
            "\u001b[1m2813/2813\u001b[0m \u001b[32m━━━━━━━━━━━━━━━━━━━━\u001b[0m\u001b[37m\u001b[0m \u001b[1m7s\u001b[0m 2ms/step - d_loss: 0.0731 - g_loss: 5.1234\n",
            "Epoch 96/250\n",
            "\u001b[1m2813/2813\u001b[0m \u001b[32m━━━━━━━━━━━━━━━━━━━━\u001b[0m\u001b[37m\u001b[0m \u001b[1m7s\u001b[0m 2ms/step - d_loss: 0.0723 - g_loss: 5.1450\n",
            "Epoch 97/250\n",
            "\u001b[1m2813/2813\u001b[0m \u001b[32m━━━━━━━━━━━━━━━━━━━━\u001b[0m\u001b[37m\u001b[0m \u001b[1m7s\u001b[0m 2ms/step - d_loss: 0.0757 - g_loss: 5.1610\n",
            "Epoch 98/250\n",
            "\u001b[1m2813/2813\u001b[0m \u001b[32m━━━━━━━━━━━━━━━━━━━━\u001b[0m\u001b[37m\u001b[0m \u001b[1m7s\u001b[0m 2ms/step - d_loss: 0.0751 - g_loss: 5.0808\n",
            "Epoch 99/250\n",
            "\u001b[1m2813/2813\u001b[0m \u001b[32m━━━━━━━━━━━━━━━━━━━━\u001b[0m\u001b[37m\u001b[0m \u001b[1m7s\u001b[0m 2ms/step - d_loss: 0.0740 - g_loss: 5.1575\n",
            "Epoch 100/250\n",
            "\u001b[1m2813/2813\u001b[0m \u001b[32m━━━━━━━━━━━━━━━━━━━━\u001b[0m\u001b[37m\u001b[0m \u001b[1m7s\u001b[0m 2ms/step - d_loss: 0.0731 - g_loss: 5.1443\n",
            "Epoch 101/250\n",
            "\u001b[1m2813/2813\u001b[0m \u001b[32m━━━━━━━━━━━━━━━━━━━━\u001b[0m\u001b[37m\u001b[0m \u001b[1m7s\u001b[0m 2ms/step - d_loss: 0.0702 - g_loss: 5.2035\n",
            "Epoch 102/250\n",
            "\u001b[1m2813/2813\u001b[0m \u001b[32m━━━━━━━━━━━━━━━━━━━━\u001b[0m\u001b[37m\u001b[0m \u001b[1m7s\u001b[0m 2ms/step - d_loss: 0.0721 - g_loss: 5.2088\n",
            "Epoch 103/250\n",
            "\u001b[1m2813/2813\u001b[0m \u001b[32m━━━━━━━━━━━━━━━━━━━━\u001b[0m\u001b[37m\u001b[0m \u001b[1m7s\u001b[0m 2ms/step - d_loss: 0.0734 - g_loss: 5.1614\n",
            "Epoch 104/250\n",
            "\u001b[1m2813/2813\u001b[0m \u001b[32m━━━━━━━━━━━━━━━━━━━━\u001b[0m\u001b[37m\u001b[0m \u001b[1m7s\u001b[0m 2ms/step - d_loss: 0.0738 - g_loss: 5.1111\n",
            "Epoch 105/250\n",
            "\u001b[1m2813/2813\u001b[0m \u001b[32m━━━━━━━━━━━━━━━━━━━━\u001b[0m\u001b[37m\u001b[0m \u001b[1m7s\u001b[0m 2ms/step - d_loss: 0.0714 - g_loss: 5.1087\n",
            "Epoch 106/250\n",
            "\u001b[1m2813/2813\u001b[0m \u001b[32m━━━━━━━━━━━━━━━━━━━━\u001b[0m\u001b[37m\u001b[0m \u001b[1m7s\u001b[0m 2ms/step - d_loss: 0.0716 - g_loss: 5.1270\n",
            "Epoch 107/250\n",
            "\u001b[1m2813/2813\u001b[0m \u001b[32m━━━━━━━━━━━━━━━━━━━━\u001b[0m\u001b[37m\u001b[0m \u001b[1m7s\u001b[0m 2ms/step - d_loss: 0.0724 - g_loss: 5.1679\n",
            "Epoch 108/250\n",
            "\u001b[1m2813/2813\u001b[0m \u001b[32m━━━━━━━━━━━━━━━━━━━━\u001b[0m\u001b[37m\u001b[0m \u001b[1m7s\u001b[0m 2ms/step - d_loss: 0.0756 - g_loss: 5.0818\n",
            "Epoch 109/250\n",
            "\u001b[1m2813/2813\u001b[0m \u001b[32m━━━━━━━━━━━━━━━━━━━━\u001b[0m\u001b[37m\u001b[0m \u001b[1m7s\u001b[0m 2ms/step - d_loss: 0.0741 - g_loss: 5.1376\n",
            "Epoch 110/250\n",
            "\u001b[1m2813/2813\u001b[0m \u001b[32m━━━━━━━━━━━━━━━━━━━━\u001b[0m\u001b[37m\u001b[0m \u001b[1m7s\u001b[0m 2ms/step - d_loss: 0.0718 - g_loss: 5.2204\n",
            "Epoch 111/250\n",
            "\u001b[1m2813/2813\u001b[0m \u001b[32m━━━━━━━━━━━━━━━━━━━━\u001b[0m\u001b[37m\u001b[0m \u001b[1m7s\u001b[0m 2ms/step - d_loss: 0.0696 - g_loss: 5.1777\n",
            "Epoch 112/250\n",
            "\u001b[1m2813/2813\u001b[0m \u001b[32m━━━━━━━━━━━━━━━━━━━━\u001b[0m\u001b[37m\u001b[0m \u001b[1m7s\u001b[0m 2ms/step - d_loss: 0.0731 - g_loss: 5.1126\n",
            "Epoch 113/250\n",
            "\u001b[1m2813/2813\u001b[0m \u001b[32m━━━━━━━━━━━━━━━━━━━━\u001b[0m\u001b[37m\u001b[0m \u001b[1m7s\u001b[0m 2ms/step - d_loss: 0.0719 - g_loss: 5.2233\n",
            "Epoch 114/250\n",
            "\u001b[1m2813/2813\u001b[0m \u001b[32m━━━━━━━━━━━━━━━━━━━━\u001b[0m\u001b[37m\u001b[0m \u001b[1m7s\u001b[0m 2ms/step - d_loss: 0.0711 - g_loss: 5.1714\n",
            "Epoch 115/250\n",
            "\u001b[1m2813/2813\u001b[0m \u001b[32m━━━━━━━━━━━━━━━━━━━━\u001b[0m\u001b[37m\u001b[0m \u001b[1m7s\u001b[0m 2ms/step - d_loss: 0.0732 - g_loss: 5.0916\n",
            "Epoch 116/250\n",
            "\u001b[1m2813/2813\u001b[0m \u001b[32m━━━━━━━━━━━━━━━━━━━━\u001b[0m\u001b[37m\u001b[0m \u001b[1m7s\u001b[0m 2ms/step - d_loss: 0.0694 - g_loss: 5.2434\n",
            "Epoch 117/250\n",
            "\u001b[1m2813/2813\u001b[0m \u001b[32m━━━━━━━━━━━━━━━━━━━━\u001b[0m\u001b[37m\u001b[0m \u001b[1m7s\u001b[0m 2ms/step - d_loss: 0.0705 - g_loss: 5.1739\n",
            "Epoch 118/250\n",
            "\u001b[1m2813/2813\u001b[0m \u001b[32m━━━━━━━━━━━━━━━━━━━━\u001b[0m\u001b[37m\u001b[0m \u001b[1m7s\u001b[0m 2ms/step - d_loss: 0.0696 - g_loss: 5.1984\n",
            "Epoch 119/250\n",
            "\u001b[1m2813/2813\u001b[0m \u001b[32m━━━━━━━━━━━━━━━━━━━━\u001b[0m\u001b[37m\u001b[0m \u001b[1m7s\u001b[0m 2ms/step - d_loss: 0.0707 - g_loss: 5.1689\n",
            "Epoch 120/250\n",
            "\u001b[1m2813/2813\u001b[0m \u001b[32m━━━━━━━━━━━━━━━━━━━━\u001b[0m\u001b[37m\u001b[0m \u001b[1m7s\u001b[0m 2ms/step - d_loss: 0.0713 - g_loss: 5.2049\n",
            "Epoch 121/250\n",
            "\u001b[1m2813/2813\u001b[0m \u001b[32m━━━━━━━━━━━━━━━━━━━━\u001b[0m\u001b[37m\u001b[0m \u001b[1m7s\u001b[0m 2ms/step - d_loss: 0.0652 - g_loss: 5.2553\n",
            "Epoch 122/250\n",
            "\u001b[1m2813/2813\u001b[0m \u001b[32m━━━━━━━━━━━━━━━━━━━━\u001b[0m\u001b[37m\u001b[0m \u001b[1m7s\u001b[0m 2ms/step - d_loss: 0.0666 - g_loss: 5.2497\n",
            "Epoch 123/250\n",
            "\u001b[1m2813/2813\u001b[0m \u001b[32m━━━━━━━━━━━━━━━━━━━━\u001b[0m\u001b[37m\u001b[0m \u001b[1m7s\u001b[0m 2ms/step - d_loss: 0.0703 - g_loss: 5.1502\n",
            "Epoch 124/250\n",
            "\u001b[1m2813/2813\u001b[0m \u001b[32m━━━━━━━━━━━━━━━━━━━━\u001b[0m\u001b[37m\u001b[0m \u001b[1m7s\u001b[0m 2ms/step - d_loss: 0.0647 - g_loss: 5.3068\n",
            "Epoch 125/250\n",
            "\u001b[1m2813/2813\u001b[0m \u001b[32m━━━━━━━━━━━━━━━━━━━━\u001b[0m\u001b[37m\u001b[0m \u001b[1m7s\u001b[0m 2ms/step - d_loss: 0.0657 - g_loss: 5.2673\n",
            "Epoch 126/250\n",
            "\u001b[1m2813/2813\u001b[0m \u001b[32m━━━━━━━━━━━━━━━━━━━━\u001b[0m\u001b[37m\u001b[0m \u001b[1m7s\u001b[0m 2ms/step - d_loss: 0.0625 - g_loss: 5.3533\n",
            "Epoch 127/250\n",
            "\u001b[1m2813/2813\u001b[0m \u001b[32m━━━━━━━━━━━━━━━━━━━━\u001b[0m\u001b[37m\u001b[0m \u001b[1m7s\u001b[0m 2ms/step - d_loss: 0.0662 - g_loss: 5.2635\n",
            "Epoch 128/250\n",
            "\u001b[1m2813/2813\u001b[0m \u001b[32m━━━━━━━━━━━━━━━━━━━━\u001b[0m\u001b[37m\u001b[0m \u001b[1m7s\u001b[0m 2ms/step - d_loss: 0.0644 - g_loss: 5.2656\n",
            "Epoch 129/250\n",
            "\u001b[1m2813/2813\u001b[0m \u001b[32m━━━━━━━━━━━━━━━━━━━━\u001b[0m\u001b[37m\u001b[0m \u001b[1m7s\u001b[0m 2ms/step - d_loss: 0.0647 - g_loss: 5.2593\n",
            "Epoch 130/250\n",
            "\u001b[1m2813/2813\u001b[0m \u001b[32m━━━━━━━━━━━━━━━━━━━━\u001b[0m\u001b[37m\u001b[0m \u001b[1m7s\u001b[0m 2ms/step - d_loss: 0.0657 - g_loss: 5.3138\n",
            "Epoch 131/250\n",
            "\u001b[1m2813/2813\u001b[0m \u001b[32m━━━━━━━━━━━━━━━━━━━━\u001b[0m\u001b[37m\u001b[0m \u001b[1m7s\u001b[0m 2ms/step - d_loss: 0.0641 - g_loss: 5.2887\n",
            "Epoch 132/250\n",
            "\u001b[1m2813/2813\u001b[0m \u001b[32m━━━━━━━━━━━━━━━━━━━━\u001b[0m\u001b[37m\u001b[0m \u001b[1m7s\u001b[0m 2ms/step - d_loss: 0.0650 - g_loss: 5.2927\n",
            "Epoch 133/250\n",
            "\u001b[1m2813/2813\u001b[0m \u001b[32m━━━━━━━━━━━━━━━━━━━━\u001b[0m\u001b[37m\u001b[0m \u001b[1m7s\u001b[0m 2ms/step - d_loss: 0.0625 - g_loss: 5.3384\n",
            "Epoch 134/250\n",
            "\u001b[1m2813/2813\u001b[0m \u001b[32m━━━━━━━━━━━━━━━━━━━━\u001b[0m\u001b[37m\u001b[0m \u001b[1m7s\u001b[0m 2ms/step - d_loss: 0.0610 - g_loss: 5.3690\n",
            "Epoch 135/250\n",
            "\u001b[1m2813/2813\u001b[0m \u001b[32m━━━━━━━━━━━━━━━━━━━━\u001b[0m\u001b[37m\u001b[0m \u001b[1m7s\u001b[0m 2ms/step - d_loss: 0.0626 - g_loss: 5.4200\n",
            "Epoch 136/250\n",
            "\u001b[1m2813/2813\u001b[0m \u001b[32m━━━━━━━━━━━━━━━━━━━━\u001b[0m\u001b[37m\u001b[0m \u001b[1m7s\u001b[0m 2ms/step - d_loss: 0.0618 - g_loss: 5.3230\n",
            "Epoch 137/250\n",
            "\u001b[1m2813/2813\u001b[0m \u001b[32m━━━━━━━━━━━━━━━━━━━━\u001b[0m\u001b[37m\u001b[0m \u001b[1m7s\u001b[0m 2ms/step - d_loss: 0.0650 - g_loss: 5.3261\n",
            "Epoch 138/250\n",
            "\u001b[1m2813/2813\u001b[0m \u001b[32m━━━━━━━━━━━━━━━━━━━━\u001b[0m\u001b[37m\u001b[0m \u001b[1m7s\u001b[0m 2ms/step - d_loss: 0.0601 - g_loss: 5.3613\n",
            "Epoch 139/250\n",
            "\u001b[1m2813/2813\u001b[0m \u001b[32m━━━━━━━━━━━━━━━━━━━━\u001b[0m\u001b[37m\u001b[0m \u001b[1m7s\u001b[0m 2ms/step - d_loss: 0.0590 - g_loss: 5.3675\n",
            "Epoch 140/250\n",
            "\u001b[1m2813/2813\u001b[0m \u001b[32m━━━━━━━━━━━━━━━━━━━━\u001b[0m\u001b[37m\u001b[0m \u001b[1m7s\u001b[0m 2ms/step - d_loss: 0.0586 - g_loss: 5.4713\n",
            "Epoch 141/250\n",
            "\u001b[1m2813/2813\u001b[0m \u001b[32m━━━━━━━━━━━━━━━━━━━━\u001b[0m\u001b[37m\u001b[0m \u001b[1m7s\u001b[0m 2ms/step - d_loss: 0.0618 - g_loss: 5.4493\n",
            "Epoch 142/250\n",
            "\u001b[1m2813/2813\u001b[0m \u001b[32m━━━━━━━━━━━━━━━━━━━━\u001b[0m\u001b[37m\u001b[0m \u001b[1m7s\u001b[0m 2ms/step - d_loss: 0.0629 - g_loss: 5.3931\n",
            "Epoch 143/250\n",
            "\u001b[1m2813/2813\u001b[0m \u001b[32m━━━━━━━━━━━━━━━━━━━━\u001b[0m\u001b[37m\u001b[0m \u001b[1m7s\u001b[0m 2ms/step - d_loss: 0.0601 - g_loss: 5.4373\n",
            "Epoch 144/250\n",
            "\u001b[1m2813/2813\u001b[0m \u001b[32m━━━━━━━━━━━━━━━━━━━━\u001b[0m\u001b[37m\u001b[0m \u001b[1m7s\u001b[0m 2ms/step - d_loss: 0.0611 - g_loss: 5.4114\n",
            "Epoch 145/250\n",
            "\u001b[1m2813/2813\u001b[0m \u001b[32m━━━━━━━━━━━━━━━━━━━━\u001b[0m\u001b[37m\u001b[0m \u001b[1m7s\u001b[0m 2ms/step - d_loss: 0.0621 - g_loss: 5.3983\n",
            "Epoch 146/250\n",
            "\u001b[1m2813/2813\u001b[0m \u001b[32m━━━━━━━━━━━━━━━━━━━━\u001b[0m\u001b[37m\u001b[0m \u001b[1m7s\u001b[0m 2ms/step - d_loss: 0.0631 - g_loss: 5.4799\n",
            "Epoch 147/250\n",
            "\u001b[1m2813/2813\u001b[0m \u001b[32m━━━━━━━━━━━━━━━━━━━━\u001b[0m\u001b[37m\u001b[0m \u001b[1m7s\u001b[0m 2ms/step - d_loss: 0.0665 - g_loss: 5.3426\n",
            "Epoch 148/250\n",
            "\u001b[1m2813/2813\u001b[0m \u001b[32m━━━━━━━━━━━━━━━━━━━━\u001b[0m\u001b[37m\u001b[0m \u001b[1m7s\u001b[0m 2ms/step - d_loss: 0.0630 - g_loss: 5.4003\n",
            "Epoch 149/250\n",
            "\u001b[1m2813/2813\u001b[0m \u001b[32m━━━━━━━━━━━━━━━━━━━━\u001b[0m\u001b[37m\u001b[0m \u001b[1m7s\u001b[0m 2ms/step - d_loss: 0.0613 - g_loss: 5.4277\n",
            "Epoch 150/250\n",
            "\u001b[1m2813/2813\u001b[0m \u001b[32m━━━━━━━━━━━━━━━━━━━━\u001b[0m\u001b[37m\u001b[0m \u001b[1m7s\u001b[0m 2ms/step - d_loss: 0.0623 - g_loss: 5.4158\n",
            "Epoch 151/250\n",
            "\u001b[1m2813/2813\u001b[0m \u001b[32m━━━━━━━━━━━━━━━━━━━━\u001b[0m\u001b[37m\u001b[0m \u001b[1m7s\u001b[0m 2ms/step - d_loss: 0.0626 - g_loss: 5.3510\n",
            "Epoch 152/250\n",
            "\u001b[1m2813/2813\u001b[0m \u001b[32m━━━━━━━━━━━━━━━━━━━━\u001b[0m\u001b[37m\u001b[0m \u001b[1m7s\u001b[0m 2ms/step - d_loss: 0.0655 - g_loss: 5.3745\n",
            "Epoch 153/250\n",
            "\u001b[1m2813/2813\u001b[0m \u001b[32m━━━━━━━━━━━━━━━━━━━━\u001b[0m\u001b[37m\u001b[0m \u001b[1m7s\u001b[0m 2ms/step - d_loss: 0.0618 - g_loss: 5.3442\n",
            "Epoch 154/250\n",
            "\u001b[1m2813/2813\u001b[0m \u001b[32m━━━━━━━━━━━━━━━━━━━━\u001b[0m\u001b[37m\u001b[0m \u001b[1m7s\u001b[0m 3ms/step - d_loss: 0.0647 - g_loss: 5.3114\n",
            "Epoch 155/250\n",
            "\u001b[1m2813/2813\u001b[0m \u001b[32m━━━━━━━━━━━━━━━━━━━━\u001b[0m\u001b[37m\u001b[0m \u001b[1m7s\u001b[0m 2ms/step - d_loss: 0.0595 - g_loss: 5.3830\n",
            "Epoch 156/250\n",
            "\u001b[1m2813/2813\u001b[0m \u001b[32m━━━━━━━━━━━━━━━━━━━━\u001b[0m\u001b[37m\u001b[0m \u001b[1m7s\u001b[0m 2ms/step - d_loss: 0.0592 - g_loss: 5.4640\n",
            "Epoch 157/250\n",
            "\u001b[1m2813/2813\u001b[0m \u001b[32m━━━━━━━━━━━━━━━━━━━━\u001b[0m\u001b[37m\u001b[0m \u001b[1m7s\u001b[0m 2ms/step - d_loss: 0.0606 - g_loss: 5.4202\n",
            "Epoch 158/250\n",
            "\u001b[1m2813/2813\u001b[0m \u001b[32m━━━━━━━━━━━━━━━━━━━━\u001b[0m\u001b[37m\u001b[0m \u001b[1m7s\u001b[0m 2ms/step - d_loss: 0.0617 - g_loss: 5.4591\n",
            "Epoch 159/250\n",
            "\u001b[1m2813/2813\u001b[0m \u001b[32m━━━━━━━━━━━━━━━━━━━━\u001b[0m\u001b[37m\u001b[0m \u001b[1m7s\u001b[0m 2ms/step - d_loss: 0.0599 - g_loss: 5.4178\n",
            "Epoch 160/250\n",
            "\u001b[1m2813/2813\u001b[0m \u001b[32m━━━━━━━━━━━━━━━━━━━━\u001b[0m\u001b[37m\u001b[0m \u001b[1m7s\u001b[0m 2ms/step - d_loss: 0.0599 - g_loss: 5.5514\n",
            "Epoch 161/250\n",
            "\u001b[1m2813/2813\u001b[0m \u001b[32m━━━━━━━━━━━━━━━━━━━━\u001b[0m\u001b[37m\u001b[0m \u001b[1m7s\u001b[0m 2ms/step - d_loss: 0.0553 - g_loss: 5.6331\n",
            "Epoch 162/250\n",
            "\u001b[1m2813/2813\u001b[0m \u001b[32m━━━━━━━━━━━━━━━━━━━━\u001b[0m\u001b[37m\u001b[0m \u001b[1m7s\u001b[0m 2ms/step - d_loss: 0.0620 - g_loss: 5.4940\n",
            "Epoch 163/250\n",
            "\u001b[1m2813/2813\u001b[0m \u001b[32m━━━━━━━━━━━━━━━━━━━━\u001b[0m\u001b[37m\u001b[0m \u001b[1m7s\u001b[0m 2ms/step - d_loss: 0.0610 - g_loss: 5.5002\n",
            "Epoch 164/250\n",
            "\u001b[1m2813/2813\u001b[0m \u001b[32m━━━━━━━━━━━━━━━━━━━━\u001b[0m\u001b[37m\u001b[0m \u001b[1m7s\u001b[0m 2ms/step - d_loss: 0.0591 - g_loss: 5.5363\n",
            "Epoch 165/250\n",
            "\u001b[1m2813/2813\u001b[0m \u001b[32m━━━━━━━━━━━━━━━━━━━━\u001b[0m\u001b[37m\u001b[0m \u001b[1m7s\u001b[0m 2ms/step - d_loss: 0.0609 - g_loss: 5.5218\n",
            "Epoch 166/250\n",
            "\u001b[1m2813/2813\u001b[0m \u001b[32m━━━━━━━━━━━━━━━━━━━━\u001b[0m\u001b[37m\u001b[0m \u001b[1m7s\u001b[0m 2ms/step - d_loss: 0.0634 - g_loss: 5.3858\n",
            "Epoch 167/250\n",
            "\u001b[1m2813/2813\u001b[0m \u001b[32m━━━━━━━━━━━━━━━━━━━━\u001b[0m\u001b[37m\u001b[0m \u001b[1m7s\u001b[0m 2ms/step - d_loss: 0.0612 - g_loss: 5.4946\n",
            "Epoch 168/250\n",
            "\u001b[1m2813/2813\u001b[0m \u001b[32m━━━━━━━━━━━━━━━━━━━━\u001b[0m\u001b[37m\u001b[0m \u001b[1m7s\u001b[0m 2ms/step - d_loss: 0.0639 - g_loss: 5.4185\n",
            "Epoch 169/250\n",
            "\u001b[1m2813/2813\u001b[0m \u001b[32m━━━━━━━━━━━━━━━━━━━━\u001b[0m\u001b[37m\u001b[0m \u001b[1m7s\u001b[0m 2ms/step - d_loss: 0.0630 - g_loss: 5.5085\n",
            "Epoch 170/250\n",
            "\u001b[1m2813/2813\u001b[0m \u001b[32m━━━━━━━━━━━━━━━━━━━━\u001b[0m\u001b[37m\u001b[0m \u001b[1m7s\u001b[0m 2ms/step - d_loss: 0.0624 - g_loss: 5.4867\n",
            "Epoch 171/250\n",
            "\u001b[1m2813/2813\u001b[0m \u001b[32m━━━━━━━━━━━━━━━━━━━━\u001b[0m\u001b[37m\u001b[0m \u001b[1m7s\u001b[0m 2ms/step - d_loss: 0.0619 - g_loss: 5.4663\n",
            "Epoch 172/250\n",
            "\u001b[1m2813/2813\u001b[0m \u001b[32m━━━━━━━━━━━━━━━━━━━━\u001b[0m\u001b[37m\u001b[0m \u001b[1m7s\u001b[0m 2ms/step - d_loss: 0.0655 - g_loss: 5.3253\n",
            "Epoch 173/250\n",
            "\u001b[1m2813/2813\u001b[0m \u001b[32m━━━━━━━━━━━━━━━━━━━━\u001b[0m\u001b[37m\u001b[0m \u001b[1m7s\u001b[0m 2ms/step - d_loss: 0.0612 - g_loss: 5.5149\n",
            "Epoch 174/250\n",
            "\u001b[1m2813/2813\u001b[0m \u001b[32m━━━━━━━━━━━━━━━━━━━━\u001b[0m\u001b[37m\u001b[0m \u001b[1m7s\u001b[0m 2ms/step - d_loss: 0.0616 - g_loss: 5.5385\n",
            "Epoch 175/250\n",
            "\u001b[1m2813/2813\u001b[0m \u001b[32m━━━━━━━━━━━━━━━━━━━━\u001b[0m\u001b[37m\u001b[0m \u001b[1m7s\u001b[0m 2ms/step - d_loss: 0.0598 - g_loss: 5.4285\n",
            "Epoch 176/250\n",
            "\u001b[1m2813/2813\u001b[0m \u001b[32m━━━━━━━━━━━━━━━━━━━━\u001b[0m\u001b[37m\u001b[0m \u001b[1m7s\u001b[0m 2ms/step - d_loss: 0.0594 - g_loss: 5.4190\n",
            "Epoch 177/250\n",
            "\u001b[1m2813/2813\u001b[0m \u001b[32m━━━━━━━━━━━━━━━━━━━━\u001b[0m\u001b[37m\u001b[0m \u001b[1m7s\u001b[0m 2ms/step - d_loss: 0.0607 - g_loss: 5.5993\n",
            "Epoch 178/250\n",
            "\u001b[1m2813/2813\u001b[0m \u001b[32m━━━━━━━━━━━━━━━━━━━━\u001b[0m\u001b[37m\u001b[0m \u001b[1m7s\u001b[0m 2ms/step - d_loss: 0.0605 - g_loss: 5.5029\n",
            "Epoch 179/250\n",
            "\u001b[1m2813/2813\u001b[0m \u001b[32m━━━━━━━━━━━━━━━━━━━━\u001b[0m\u001b[37m\u001b[0m \u001b[1m7s\u001b[0m 2ms/step - d_loss: 0.0596 - g_loss: 5.5194\n",
            "Epoch 180/250\n",
            "\u001b[1m2813/2813\u001b[0m \u001b[32m━━━━━━━━━━━━━━━━━━━━\u001b[0m\u001b[37m\u001b[0m \u001b[1m7s\u001b[0m 2ms/step - d_loss: 0.0545 - g_loss: 5.6968\n",
            "Epoch 181/250\n",
            "\u001b[1m2813/2813\u001b[0m \u001b[32m━━━━━━━━━━━━━━━━━━━━\u001b[0m\u001b[37m\u001b[0m \u001b[1m7s\u001b[0m 2ms/step - d_loss: 0.0565 - g_loss: 5.5618\n",
            "Epoch 182/250\n",
            "\u001b[1m2813/2813\u001b[0m \u001b[32m━━━━━━━━━━━━━━━━━━━━\u001b[0m\u001b[37m\u001b[0m \u001b[1m7s\u001b[0m 2ms/step - d_loss: 0.0621 - g_loss: 5.5370\n",
            "Epoch 183/250\n",
            "\u001b[1m2813/2813\u001b[0m \u001b[32m━━━━━━━━━━━━━━━━━━━━\u001b[0m\u001b[37m\u001b[0m \u001b[1m7s\u001b[0m 2ms/step - d_loss: 0.0567 - g_loss: 5.6143\n",
            "Epoch 184/250\n",
            "\u001b[1m2813/2813\u001b[0m \u001b[32m━━━━━━━━━━━━━━━━━━━━\u001b[0m\u001b[37m\u001b[0m \u001b[1m7s\u001b[0m 2ms/step - d_loss: 0.0558 - g_loss: 5.6791\n",
            "Epoch 185/250\n",
            "\u001b[1m2813/2813\u001b[0m \u001b[32m━━━━━━━━━━━━━━━━━━━━\u001b[0m\u001b[37m\u001b[0m \u001b[1m7s\u001b[0m 2ms/step - d_loss: 0.0603 - g_loss: 5.4847\n",
            "Epoch 186/250\n",
            "\u001b[1m2813/2813\u001b[0m \u001b[32m━━━━━━━━━━━━━━━━━━━━\u001b[0m\u001b[37m\u001b[0m \u001b[1m7s\u001b[0m 2ms/step - d_loss: 0.0613 - g_loss: 5.5406\n",
            "Epoch 187/250\n",
            "\u001b[1m2813/2813\u001b[0m \u001b[32m━━━━━━━━━━━━━━━━━━━━\u001b[0m\u001b[37m\u001b[0m \u001b[1m7s\u001b[0m 2ms/step - d_loss: 0.0565 - g_loss: 5.6605\n",
            "Epoch 188/250\n",
            "\u001b[1m2813/2813\u001b[0m \u001b[32m━━━━━━━━━━━━━━━━━━━━\u001b[0m\u001b[37m\u001b[0m \u001b[1m7s\u001b[0m 2ms/step - d_loss: 0.0602 - g_loss: 5.5722\n",
            "Epoch 189/250\n",
            "\u001b[1m2813/2813\u001b[0m \u001b[32m━━━━━━━━━━━━━━━━━━━━\u001b[0m\u001b[37m\u001b[0m \u001b[1m7s\u001b[0m 2ms/step - d_loss: 0.0581 - g_loss: 5.5853\n",
            "Epoch 190/250\n",
            "\u001b[1m2813/2813\u001b[0m \u001b[32m━━━━━━━━━━━━━━━━━━━━\u001b[0m\u001b[37m\u001b[0m \u001b[1m7s\u001b[0m 2ms/step - d_loss: 0.0590 - g_loss: 5.5310\n",
            "Epoch 191/250\n",
            "\u001b[1m2813/2813\u001b[0m \u001b[32m━━━━━━━━━━━━━━━━━━━━\u001b[0m\u001b[37m\u001b[0m \u001b[1m7s\u001b[0m 2ms/step - d_loss: 0.0568 - g_loss: 5.5576\n",
            "Epoch 192/250\n",
            "\u001b[1m2813/2813\u001b[0m \u001b[32m━━━━━━━━━━━━━━━━━━━━\u001b[0m\u001b[37m\u001b[0m \u001b[1m7s\u001b[0m 2ms/step - d_loss: 0.0585 - g_loss: 5.5723\n",
            "Epoch 193/250\n",
            "\u001b[1m2813/2813\u001b[0m \u001b[32m━━━━━━━━━━━━━━━━━━━━\u001b[0m\u001b[37m\u001b[0m \u001b[1m7s\u001b[0m 2ms/step - d_loss: 0.0557 - g_loss: 5.6325\n",
            "Epoch 194/250\n",
            "\u001b[1m2813/2813\u001b[0m \u001b[32m━━━━━━━━━━━━━━━━━━━━\u001b[0m\u001b[37m\u001b[0m \u001b[1m7s\u001b[0m 2ms/step - d_loss: 0.0547 - g_loss: 5.7931\n",
            "Epoch 195/250\n",
            "\u001b[1m2813/2813\u001b[0m \u001b[32m━━━━━━━━━━━━━━━━━━━━\u001b[0m\u001b[37m\u001b[0m \u001b[1m7s\u001b[0m 2ms/step - d_loss: 0.0547 - g_loss: 5.7748\n",
            "Epoch 196/250\n",
            "\u001b[1m2813/2813\u001b[0m \u001b[32m━━━━━━━━━━━━━━━━━━━━\u001b[0m\u001b[37m\u001b[0m \u001b[1m7s\u001b[0m 2ms/step - d_loss: 0.0557 - g_loss: 5.6483\n",
            "Epoch 197/250\n",
            "\u001b[1m2813/2813\u001b[0m \u001b[32m━━━━━━━━━━━━━━━━━━━━\u001b[0m\u001b[37m\u001b[0m \u001b[1m7s\u001b[0m 2ms/step - d_loss: 0.0564 - g_loss: 5.6770\n",
            "Epoch 198/250\n",
            "\u001b[1m2813/2813\u001b[0m \u001b[32m━━━━━━━━━━━━━━━━━━━━\u001b[0m\u001b[37m\u001b[0m \u001b[1m7s\u001b[0m 2ms/step - d_loss: 0.0555 - g_loss: 5.6662\n",
            "Epoch 199/250\n",
            "\u001b[1m2813/2813\u001b[0m \u001b[32m━━━━━━━━━━━━━━━━━━━━\u001b[0m\u001b[37m\u001b[0m \u001b[1m7s\u001b[0m 2ms/step - d_loss: 0.0556 - g_loss: 5.6876\n",
            "Epoch 200/250\n",
            "\u001b[1m2813/2813\u001b[0m \u001b[32m━━━━━━━━━━━━━━━━━━━━\u001b[0m\u001b[37m\u001b[0m \u001b[1m7s\u001b[0m 2ms/step - d_loss: 0.0536 - g_loss: 5.7250\n",
            "Epoch 201/250\n",
            "\u001b[1m2813/2813\u001b[0m \u001b[32m━━━━━━━━━━━━━━━━━━━━\u001b[0m\u001b[37m\u001b[0m \u001b[1m7s\u001b[0m 2ms/step - d_loss: 0.0566 - g_loss: 5.6379\n",
            "Epoch 202/250\n",
            "\u001b[1m2813/2813\u001b[0m \u001b[32m━━━━━━━━━━━━━━━━━━━━\u001b[0m\u001b[37m\u001b[0m \u001b[1m7s\u001b[0m 2ms/step - d_loss: 0.0588 - g_loss: 5.6298\n",
            "Epoch 203/250\n",
            "\u001b[1m2813/2813\u001b[0m \u001b[32m━━━━━━━━━━━━━━━━━━━━\u001b[0m\u001b[37m\u001b[0m \u001b[1m7s\u001b[0m 2ms/step - d_loss: 0.0571 - g_loss: 5.5999\n",
            "Epoch 204/250\n",
            "\u001b[1m2813/2813\u001b[0m \u001b[32m━━━━━━━━━━━━━━━━━━━━\u001b[0m\u001b[37m\u001b[0m \u001b[1m7s\u001b[0m 2ms/step - d_loss: 0.0583 - g_loss: 5.5120\n",
            "Epoch 205/250\n",
            "\u001b[1m2813/2813\u001b[0m \u001b[32m━━━━━━━━━━━━━━━━━━━━\u001b[0m\u001b[37m\u001b[0m \u001b[1m7s\u001b[0m 2ms/step - d_loss: 0.0558 - g_loss: 5.5944\n",
            "Epoch 206/250\n",
            "\u001b[1m2813/2813\u001b[0m \u001b[32m━━━━━━━━━━━━━━━━━━━━\u001b[0m\u001b[37m\u001b[0m \u001b[1m7s\u001b[0m 2ms/step - d_loss: 0.0595 - g_loss: 5.7096\n",
            "Epoch 207/250\n",
            "\u001b[1m2813/2813\u001b[0m \u001b[32m━━━━━━━━━━━━━━━━━━━━\u001b[0m\u001b[37m\u001b[0m \u001b[1m7s\u001b[0m 2ms/step - d_loss: 0.0592 - g_loss: 5.6338\n",
            "Epoch 208/250\n",
            "\u001b[1m2813/2813\u001b[0m \u001b[32m━━━━━━━━━━━━━━━━━━━━\u001b[0m\u001b[37m\u001b[0m \u001b[1m7s\u001b[0m 2ms/step - d_loss: 0.0566 - g_loss: 5.6270\n",
            "Epoch 209/250\n",
            "\u001b[1m2813/2813\u001b[0m \u001b[32m━━━━━━━━━━━━━━━━━━━━\u001b[0m\u001b[37m\u001b[0m \u001b[1m7s\u001b[0m 2ms/step - d_loss: 0.0564 - g_loss: 5.5923\n",
            "Epoch 210/250\n",
            "\u001b[1m2813/2813\u001b[0m \u001b[32m━━━━━━━━━━━━━━━━━━━━\u001b[0m\u001b[37m\u001b[0m \u001b[1m7s\u001b[0m 2ms/step - d_loss: 0.0577 - g_loss: 5.5819\n",
            "Epoch 211/250\n",
            "\u001b[1m2813/2813\u001b[0m \u001b[32m━━━━━━━━━━━━━━━━━━━━\u001b[0m\u001b[37m\u001b[0m \u001b[1m7s\u001b[0m 2ms/step - d_loss: 0.0557 - g_loss: 5.6007\n",
            "Epoch 212/250\n",
            "\u001b[1m2813/2813\u001b[0m \u001b[32m━━━━━━━━━━━━━━━━━━━━\u001b[0m\u001b[37m\u001b[0m \u001b[1m7s\u001b[0m 2ms/step - d_loss: 0.0532 - g_loss: 5.7140\n",
            "Epoch 213/250\n",
            "\u001b[1m2813/2813\u001b[0m \u001b[32m━━━━━━━━━━━━━━━━━━━━\u001b[0m\u001b[37m\u001b[0m \u001b[1m7s\u001b[0m 2ms/step - d_loss: 0.0546 - g_loss: 5.6689\n",
            "Epoch 214/250\n",
            "\u001b[1m2813/2813\u001b[0m \u001b[32m━━━━━━━━━━━━━━━━━━━━\u001b[0m\u001b[37m\u001b[0m \u001b[1m7s\u001b[0m 2ms/step - d_loss: 0.0522 - g_loss: 5.8467\n",
            "Epoch 215/250\n",
            "\u001b[1m2813/2813\u001b[0m \u001b[32m━━━━━━━━━━━━━━━━━━━━\u001b[0m\u001b[37m\u001b[0m \u001b[1m7s\u001b[0m 2ms/step - d_loss: 0.0547 - g_loss: 5.6627\n",
            "Epoch 216/250\n",
            "\u001b[1m2813/2813\u001b[0m \u001b[32m━━━━━━━━━━━━━━━━━━━━\u001b[0m\u001b[37m\u001b[0m \u001b[1m7s\u001b[0m 2ms/step - d_loss: 0.0541 - g_loss: 5.6508\n",
            "Epoch 217/250\n",
            "\u001b[1m2813/2813\u001b[0m \u001b[32m━━━━━━━━━━━━━━━━━━━━\u001b[0m\u001b[37m\u001b[0m \u001b[1m7s\u001b[0m 2ms/step - d_loss: 0.0483 - g_loss: 5.8392\n",
            "Epoch 218/250\n",
            "\u001b[1m2813/2813\u001b[0m \u001b[32m━━━━━━━━━━━━━━━━━━━━\u001b[0m\u001b[37m\u001b[0m \u001b[1m7s\u001b[0m 2ms/step - d_loss: 0.0541 - g_loss: 5.7067\n",
            "Epoch 219/250\n",
            "\u001b[1m2813/2813\u001b[0m \u001b[32m━━━━━━━━━━━━━━━━━━━━\u001b[0m\u001b[37m\u001b[0m \u001b[1m7s\u001b[0m 2ms/step - d_loss: 0.0502 - g_loss: 5.7770\n",
            "Epoch 220/250\n",
            "\u001b[1m2813/2813\u001b[0m \u001b[32m━━━━━━━━━━━━━━━━━━━━\u001b[0m\u001b[37m\u001b[0m \u001b[1m7s\u001b[0m 2ms/step - d_loss: 0.0534 - g_loss: 5.7111\n",
            "Epoch 221/250\n",
            "\u001b[1m2813/2813\u001b[0m \u001b[32m━━━━━━━━━━━━━━━━━━━━\u001b[0m\u001b[37m\u001b[0m \u001b[1m7s\u001b[0m 2ms/step - d_loss: 0.0508 - g_loss: 5.7564\n",
            "Epoch 222/250\n",
            "\u001b[1m2813/2813\u001b[0m \u001b[32m━━━━━━━━━━━━━━━━━━━━\u001b[0m\u001b[37m\u001b[0m \u001b[1m7s\u001b[0m 2ms/step - d_loss: 0.0542 - g_loss: 5.8059\n",
            "Epoch 223/250\n",
            "\u001b[1m2813/2813\u001b[0m \u001b[32m━━━━━━━━━━━━━━━━━━━━\u001b[0m\u001b[37m\u001b[0m \u001b[1m7s\u001b[0m 2ms/step - d_loss: 0.0493 - g_loss: 5.8002\n",
            "Epoch 224/250\n",
            "\u001b[1m2813/2813\u001b[0m \u001b[32m━━━━━━━━━━━━━━━━━━━━\u001b[0m\u001b[37m\u001b[0m \u001b[1m7s\u001b[0m 2ms/step - d_loss: 0.0526 - g_loss: 5.8168\n",
            "Epoch 225/250\n",
            "\u001b[1m2813/2813\u001b[0m \u001b[32m━━━━━━━━━━━━━━━━━━━━\u001b[0m\u001b[37m\u001b[0m \u001b[1m7s\u001b[0m 3ms/step - d_loss: 0.0512 - g_loss: 5.7520\n",
            "Epoch 226/250\n",
            "\u001b[1m2813/2813\u001b[0m \u001b[32m━━━━━━━━━━━━━━━━━━━━\u001b[0m\u001b[37m\u001b[0m \u001b[1m7s\u001b[0m 2ms/step - d_loss: 0.0511 - g_loss: 5.8561\n",
            "Epoch 227/250\n",
            "\u001b[1m2813/2813\u001b[0m \u001b[32m━━━━━━━━━━━━━━━━━━━━\u001b[0m\u001b[37m\u001b[0m \u001b[1m7s\u001b[0m 2ms/step - d_loss: 0.0486 - g_loss: 5.9132\n",
            "Epoch 228/250\n",
            "\u001b[1m2813/2813\u001b[0m \u001b[32m━━━━━━━━━━━━━━━━━━━━\u001b[0m\u001b[37m\u001b[0m \u001b[1m7s\u001b[0m 2ms/step - d_loss: 0.0500 - g_loss: 5.8145\n",
            "Epoch 229/250\n",
            "\u001b[1m2813/2813\u001b[0m \u001b[32m━━━━━━━━━━━━━━━━━━━━\u001b[0m\u001b[37m\u001b[0m \u001b[1m7s\u001b[0m 2ms/step - d_loss: 0.0490 - g_loss: 5.8512\n",
            "Epoch 230/250\n",
            "\u001b[1m2813/2813\u001b[0m \u001b[32m━━━━━━━━━━━━━━━━━━━━\u001b[0m\u001b[37m\u001b[0m \u001b[1m7s\u001b[0m 2ms/step - d_loss: 0.0503 - g_loss: 5.8709\n",
            "Epoch 231/250\n",
            "\u001b[1m2813/2813\u001b[0m \u001b[32m━━━━━━━━━━━━━━━━━━━━\u001b[0m\u001b[37m\u001b[0m \u001b[1m7s\u001b[0m 2ms/step - d_loss: 0.0499 - g_loss: 5.9004\n",
            "Epoch 232/250\n",
            "\u001b[1m2813/2813\u001b[0m \u001b[32m━━━━━━━━━━━━━━━━━━━━\u001b[0m\u001b[37m\u001b[0m \u001b[1m7s\u001b[0m 2ms/step - d_loss: 0.0493 - g_loss: 5.7708\n",
            "Epoch 233/250\n",
            "\u001b[1m2813/2813\u001b[0m \u001b[32m━━━━━━━━━━━━━━━━━━━━\u001b[0m\u001b[37m\u001b[0m \u001b[1m7s\u001b[0m 2ms/step - d_loss: 0.0468 - g_loss: 5.8226\n",
            "Epoch 234/250\n",
            "\u001b[1m2813/2813\u001b[0m \u001b[32m━━━━━━━━━━━━━━━━━━━━\u001b[0m\u001b[37m\u001b[0m \u001b[1m7s\u001b[0m 2ms/step - d_loss: 0.0446 - g_loss: 5.9692\n",
            "Epoch 235/250\n",
            "\u001b[1m2813/2813\u001b[0m \u001b[32m━━━━━━━━━━━━━━━━━━━━\u001b[0m\u001b[37m\u001b[0m \u001b[1m7s\u001b[0m 2ms/step - d_loss: 0.0467 - g_loss: 5.9304\n",
            "Epoch 236/250\n",
            "\u001b[1m2813/2813\u001b[0m \u001b[32m━━━━━━━━━━━━━━━━━━━━\u001b[0m\u001b[37m\u001b[0m \u001b[1m7s\u001b[0m 2ms/step - d_loss: 0.0454 - g_loss: 5.9414\n",
            "Epoch 237/250\n",
            "\u001b[1m2813/2813\u001b[0m \u001b[32m━━━━━━━━━━━━━━━━━━━━\u001b[0m\u001b[37m\u001b[0m \u001b[1m7s\u001b[0m 2ms/step - d_loss: 0.0486 - g_loss: 5.9498\n",
            "Epoch 238/250\n",
            "\u001b[1m2813/2813\u001b[0m \u001b[32m━━━━━━━━━━━━━━━━━━━━\u001b[0m\u001b[37m\u001b[0m \u001b[1m7s\u001b[0m 2ms/step - d_loss: 0.0459 - g_loss: 5.8991\n",
            "Epoch 239/250\n",
            "\u001b[1m2813/2813\u001b[0m \u001b[32m━━━━━━━━━━━━━━━━━━━━\u001b[0m\u001b[37m\u001b[0m \u001b[1m7s\u001b[0m 2ms/step - d_loss: 0.0492 - g_loss: 5.7599\n",
            "Epoch 240/250\n",
            "\u001b[1m2813/2813\u001b[0m \u001b[32m━━━━━━━━━━━━━━━━━━━━\u001b[0m\u001b[37m\u001b[0m \u001b[1m7s\u001b[0m 2ms/step - d_loss: 0.0470 - g_loss: 5.9270\n",
            "Epoch 241/250\n",
            "\u001b[1m2813/2813\u001b[0m \u001b[32m━━━━━━━━━━━━━━━━━━━━\u001b[0m\u001b[37m\u001b[0m \u001b[1m7s\u001b[0m 2ms/step - d_loss: 0.0497 - g_loss: 5.8961\n",
            "Epoch 242/250\n",
            "\u001b[1m2813/2813\u001b[0m \u001b[32m━━━━━━━━━━━━━━━━━━━━\u001b[0m\u001b[37m\u001b[0m \u001b[1m7s\u001b[0m 2ms/step - d_loss: 0.0508 - g_loss: 5.7903\n",
            "Epoch 243/250\n",
            "\u001b[1m2813/2813\u001b[0m \u001b[32m━━━━━━━━━━━━━━━━━━━━\u001b[0m\u001b[37m\u001b[0m \u001b[1m7s\u001b[0m 2ms/step - d_loss: 0.0474 - g_loss: 5.9008\n",
            "Epoch 244/250\n",
            "\u001b[1m2813/2813\u001b[0m \u001b[32m━━━━━━━━━━━━━━━━━━━━\u001b[0m\u001b[37m\u001b[0m \u001b[1m7s\u001b[0m 2ms/step - d_loss: 0.0523 - g_loss: 5.8123\n",
            "Epoch 245/250\n",
            "\u001b[1m2813/2813\u001b[0m \u001b[32m━━━━━━━━━━━━━━━━━━━━\u001b[0m\u001b[37m\u001b[0m \u001b[1m7s\u001b[0m 2ms/step - d_loss: 0.0500 - g_loss: 5.8534\n",
            "Epoch 246/250\n",
            "\u001b[1m2813/2813\u001b[0m \u001b[32m━━━━━━━━━━━━━━━━━━━━\u001b[0m\u001b[37m\u001b[0m \u001b[1m7s\u001b[0m 2ms/step - d_loss: 0.0498 - g_loss: 5.8874\n",
            "Epoch 247/250\n",
            "\u001b[1m2813/2813\u001b[0m \u001b[32m━━━━━━━━━━━━━━━━━━━━\u001b[0m\u001b[37m\u001b[0m \u001b[1m7s\u001b[0m 2ms/step - d_loss: 0.0495 - g_loss: 5.8108\n",
            "Epoch 248/250\n",
            "\u001b[1m2813/2813\u001b[0m \u001b[32m━━━━━━━━━━━━━━━━━━━━\u001b[0m\u001b[37m\u001b[0m \u001b[1m7s\u001b[0m 2ms/step - d_loss: 0.0463 - g_loss: 5.9152\n",
            "Epoch 249/250\n",
            "\u001b[1m2813/2813\u001b[0m \u001b[32m━━━━━━━━━━━━━━━━━━━━\u001b[0m\u001b[37m\u001b[0m \u001b[1m7s\u001b[0m 2ms/step - d_loss: 0.0511 - g_loss: 5.7779\n",
            "Epoch 250/250\n",
            "\u001b[1m2813/2813\u001b[0m \u001b[32m━━━━━━━━━━━━━━━━━━━━\u001b[0m\u001b[37m\u001b[0m \u001b[1m7s\u001b[0m 2ms/step - d_loss: 0.0496 - g_loss: 5.8386\n"
          ]
        },
        {
          "output_type": "execute_result",
          "data": {
            "text/plain": [
              "<keras.src.callbacks.history.History at 0x7c8928b06740>"
            ]
          },
          "metadata": {},
          "execution_count": 52
        }
      ]
    },
    {
      "cell_type": "markdown",
      "source": [
        "#5-VERIFICAÇÃO DO RESULTADO DAS IMAGENS"
      ],
      "metadata": {
        "id": "_opMa-uGydBp"
      }
    },
    {
      "cell_type": "code",
      "source": [
        "type_gan='dcgan'"
      ],
      "metadata": {
        "id": "gNcFJDqtr8ug"
      },
      "execution_count": null,
      "outputs": []
    },
    {
      "cell_type": "code",
      "source": [
        "first_epoch_dir = f'imgs_generate/{type_gan}/epoch_000'  # Diretório da primeira época\n",
        "mid_epoch_dir = f'imgs_generate/{type_gan}/epoch_{epochs//2:03d}'  # Diretório da época intermediária\n",
        "last_epoch_dir = f'imgs_generate/{type_gan}/epoch_030'  # Diretório da última época"
      ],
      "metadata": {
        "id": "LEFPfIFXX49k"
      },
      "execution_count": null,
      "outputs": []
    },
    {
      "cell_type": "code",
      "source": [
        "plot_comparative_images_three_epochs(first_epoch_dir, mid_epoch_dir, last_epoch_dir, num_img=10)"
      ],
      "metadata": {
        "colab": {
          "base_uri": "https://localhost:8080/",
          "height": 411
        },
        "id": "s3brJ6ynSCbV",
        "outputId": "62f6de37-36d0-4cff-b994-28b7ea1352eb"
      },
      "execution_count": null,
      "outputs": [
        {
          "output_type": "display_data",
          "data": {
            "text/plain": [
              "<Figure size 3000x900 with 30 Axes>"
            ],
            "image/png": "[encoded data removed]"
          },
          "metadata": {}
        }
      ]
    },
    {
      "cell_type": "markdown",
      "source": [
        "##5.1-Verificação da curva de aprendizado do discriminador e gerador"
      ],
      "metadata": {
        "id": "nA79ACUC1n4A"
      }
    },
    {
      "cell_type": "code",
      "source": [
        "plot_learning_curves_from_file(type_gan)"
      ],
      "metadata": {
        "colab": {
          "base_uri": "https://localhost:8080/",
          "height": 501
        },
        "id": "y5vRrDSxudMo",
        "outputId": "16140f6f-312b-4074-e4d8-6a414de88471"
      },
      "execution_count": null,
      "outputs": [
        {
          "output_type": "display_data",
          "data": {
            "text/plain": [
              "<Figure size 1200x800 with 1 Axes>"
            ],
            "image/png": "[encoded data removed]"
          },
          "metadata": {}
        }
      ]
    },
    {
      "cell_type": "markdown",
      "source": [
        "#6-CONCLUSÃO"
      ],
      "metadata": {
        "id": "tgGfV5HZ2FfE"
      }
    },
    {
      "cell_type": "code",
      "source": [
        "\"\"\"\n",
        "O modelo conseguiu produzir imagens de bolos de aniversário parecidas com as imagens das amostras.\n",
        "Foram utilizadas uma amostra de 90000 imagens.\n",
        "Verifica-se que as últimas ficaram melhores e observa-se que o modelo conseguiu captar a parte da variabilidade de imagens de bolos de aniversário.\n",
        "\n",
        "Como próximos passos para melhoria do modelo, poderia ser usada mais imagens da amostra.\n",
        "Além disso, pode-se aumentar as épocas e fazer modificações na arquitetura do discriminador e gerador\n",
        "\n",
        "\n",
        "\n",
        "\n",
        "\"\"\""
      ],
      "metadata": {
        "id": "tt81Q93U2JdI",
        "colab": {
          "base_uri": "https://localhost:8080/",
          "height": 87
        },
        "outputId": "a2f70913-18be-4362-8b44-24be7fa4302d"
      },
      "execution_count": null,
      "outputs": [
        {
          "output_type": "execute_result",
          "data": {
            "text/plain": [
              "'\\nO modelo conseguiu produzir imagens de bolos de aniversário parecidas com as imagens das amostras.\\nForam utilizadas uma amostra de 90000 imagens.\\nVerifica-se que as últimas ficaram melhores e observa-se que o modelo conseguiu captar a parte da variabilidade de imagens de bolos de aniversário.\\n\\nComo próximos passos para melhoria do modelo, poderia ser usada mais imagens da amostra.\\nAlém disso, pode-se aumentar as épocas e fazer modificações na arquitetura do discriminador e gerador\\n\\n\\n\\n\\n'"
            ],
            "application/vnd.google.colaboratory.intrinsic+json": {
              "type": "string"
            }
          },
          "metadata": {},
          "execution_count": 57
        }
      ]
    },
    {
      "cell_type": "code",
      "source": [],
      "metadata": {
        "id": "gDKQDsEd2DzJ"
      },
      "execution_count": null,
      "outputs": []
    },
    {
      "cell_type": "code",
      "source": [],
      "metadata": {
        "id": "EhYUg-lP2B7i"
      },
      "execution_count": null,
      "outputs": []
    }
  ]
}